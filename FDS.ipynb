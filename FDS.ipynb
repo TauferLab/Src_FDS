{
 "cells": [
  {
   "cell_type": "code",
   "execution_count": null,
   "metadata": {},
   "outputs": [],
   "source": [
    "%run -i code/utils.py"
   ]
  },
  {
   "cell_type": "markdown",
   "metadata": {},
   "source": [
    "# 1. Reading Elevation File"
   ]
  },
  {
   "cell_type": "code",
   "execution_count": null,
   "metadata": {},
   "outputs": [],
   "source": [
    "name_of_file = 'Data/chimmey_tops_dem_1m_utm17n.csv'\n",
    "Mst_original = read_elevation(name_of_file)"
   ]
  },
  {
   "cell_type": "markdown",
   "metadata": {},
   "source": [
    "# 2. Creating the FDS file\n",
    "## 2.1 Defining the Region Where the Simulation Takes Place"
   ]
  },
  {
   "cell_type": "code",
   "execution_count": null,
   "metadata": {},
   "outputs": [],
   "source": [
    "Min_x = 400\n",
    "Max_x = 600\n",
    "Min_y = 0\n",
    "Max_y = 200\n",
    "Mst   = Mst_original.copy()\n",
    "Mst = Mst[(Mst.x > Min_x-1) & (Mst.x < Max_x) & (Mst.y > Min_y-1) & (Mst.y < Max_y)]\n",
    "Mst_o = Mst.copy()\n"
   ]
  },
  {
   "cell_type": "markdown",
   "metadata": {},
   "source": [
    "# 2.2 Defining the Resolution of the Meshes and the obstacles in Meters"
   ]
  },
  {
   "cell_type": "code",
   "execution_count": null,
   "metadata": {},
   "outputs": [],
   "source": [
    "R = 4\n",
    "Mst = Mst[(Mst.x%R==0) & (Mst.y%R==0)]\n",
    "Ro = 4\n",
    "Mst_o = Mst_o[(Mst_o.x%Ro==0) & (Mst_o.y%Ro==0)]\n",
    "Mst = Mst.reset_index(drop=True)\n",
    "Mst_o = Mst_o.reset_index(drop=True)"
   ]
  },
  {
   "cell_type": "markdown",
   "metadata": {},
   "source": [
    "## 2.3 Calculating the Range of the Elevation "
   ]
  },
  {
   "cell_type": "code",
   "execution_count": null,
   "metadata": {},
   "outputs": [],
   "source": [
    "# Minimum and Maximum elevation\n",
    "Min_z = math.floor(Mst['Elevation'].min())\n",
    "Max_z = math.ceil(Mst['Elevation'].max())\n"
   ]
  },
  {
   "cell_type": "markdown",
   "metadata": {},
   "source": [
    "# 2.4 Writing the FDS File "
   ]
  },
  {
   "cell_type": "code",
   "execution_count": null,
   "metadata": {},
   "outputs": [],
   "source": [
    "# Defining the time variables\n",
    "T_begin  = 0.0\n",
    "T_end    = 60.0\n",
    "DT       = 0.1\n",
    "Nmx      = 2    # Number of meshes in x-direction \n",
    "Nmy      = 2     # Number pf meshes in y-direction\n",
    "Nmz      = 2     # Nmber of Meshes  in z-direction\n",
    "PC       = 1\n",
    "Location = [500,100] # Location of the fire\n",
    "Child    = 'Region1'\n",
    "HRRPUA   = 1500\n",
    "\n",
    "Indice = Mst_o[(Mst_o['x'] < Location[0]+5) & (Mst_o['x'] > Location[0]-5) & (Mst_o['y'] < Location[1]+5) & (Mst_o['y'] > Location[1]-5)].index\n",
    "Indice2 = [i for i in Mst_o.index if i not in Indice.values]\n",
    "\n",
    "foldername = f\"Chimney\"\n",
    "filename = f\"{Child}.fds\"\n",
    "\n",
    "write_fds_file(T_begin, T_end, DT, PC, Nmx, Nmy, Nmz, Indice, Indice2, Child, HRRPUA)"
   ]
  },
  {
   "cell_type": "markdown",
   "metadata": {},
   "source": [
    "# 3 Running the FDS program"
   ]
  },
  {
   "cell_type": "markdown",
   "metadata": {},
   "source": [
    "## 3.1 Defining the folder where the fds input file is"
   ]
  },
  {
   "cell_type": "code",
   "execution_count": null,
   "metadata": {},
   "outputs": [],
   "source": [
    "PATH =  os.getcwd()\n",
    "Bin_folder = f\"{PATH}/Bin\"\n",
    "FDS_FOLDER = f\"FDSFiles/{foldername}\"\n",
    "os.chdir(FDS_FOLDER)"
   ]
  },
  {
   "cell_type": "markdown",
   "metadata": {},
   "source": [
    "## 3.2 Running the fds command"
   ]
  },
  {
   "cell_type": "code",
   "execution_count": null,
   "metadata": {},
   "outputs": [],
   "source": [
    "number_of_process = 4"
   ]
  },
  {
   "cell_type": "code",
   "execution_count": null,
   "metadata": {},
   "outputs": [],
   "source": [
    "bash([f'{PATH}/code/omp_threads.sh'])"
   ]
  },
  {
   "cell_type": "code",
   "execution_count": null,
   "metadata": {},
   "outputs": [],
   "source": [
    "bash(['mpiexec', '-n', number_of_process,'fds',filename])"
   ]
  },
  {
   "cell_type": "markdown",
   "metadata": {},
   "source": [
    "# 4 Converting the HRR Information from the plot3d Files to CSV Files"
   ]
  },
  {
   "cell_type": "code",
   "execution_count": null,
   "metadata": {},
   "outputs": [],
   "source": [
    "os.chdir(PATH)\n",
    "Number_of_meshes = Nmx*Nmy*Nmz\n",
    "\n",
    "reading_hrr(Child, Number_of_meshes)"
   ]
  },
  {
   "cell_type": "markdown",
   "metadata": {},
   "source": [
    "# 5 Extracting the HRR from the CSV Files"
   ]
  },
  {
   "cell_type": "markdown",
   "metadata": {},
   "source": [
    "## 5.1 Converting the CSV Files into Dataframes "
   ]
  },
  {
   "cell_type": "code",
   "execution_count": null,
   "metadata": {},
   "outputs": [],
   "source": [
    "os.chdir(PATH)\n",
    "Hrr = pd.DataFrame()\n",
    "for i in range(1,Number_of_meshes+1):\n",
    "    temp = pd.read_csv(f\"{FDS_FOLDER}/{Child}_{i}.csv\")\n",
    "    temp = temp.drop(temp.index[0])\n",
    "    temp = temp.reset_index(drop=True)\n",
    "    Hrr  = Hrr.append(temp)\n",
    "    Hrr = Hrr.reset_index(drop=True)\n",
    "Hrr = Hrr[[Hrr.columns[0],Hrr.columns[1],Hrr.columns[2],Hrr.columns[7]]]\n",
    "Hrr.columns = ['x','y','z','hrr']"
   ]
  },
  {
   "cell_type": "markdown",
   "metadata": {},
   "source": [
    "## 5.2 Cleaning the Data and Matching the Format of Numbers"
   ]
  },
  {
   "cell_type": "code",
   "execution_count": null,
   "metadata": {},
   "outputs": [],
   "source": [
    "Hrr[\"hrr\"] = pd.to_numeric(Hrr[\"hrr\"], downcast=\"float\")\n",
    "Hrr[\"x\"] = pd.to_numeric(Hrr[\"x\"], downcast=\"float\")\n",
    "Hrr[\"y\"] = pd.to_numeric(Hrr[\"y\"], downcast=\"float\")\n",
    "\n",
    "Mst_o[\"x\"] = pd.to_numeric(Mst_o[\"x\"], downcast=\"float\")\n",
    "Mst_o[\"y\"] = pd.to_numeric(Mst_o[\"y\"], downcast=\"float\")"
   ]
  },
  {
   "cell_type": "markdown",
   "metadata": {},
   "source": [
    "## 5.3 Extracting the values of HRR greater than 100"
   ]
  },
  {
   "cell_type": "code",
   "execution_count": null,
   "metadata": {},
   "outputs": [],
   "source": [
    "Hrr = Hrr[Hrr['hrr']>100]\n",
    "Hrr = Hrr.reset_index(drop=True)\n",
    "HRRPUA   = int(Hrr['hrr'].mean())"
   ]
  },
  {
   "cell_type": "markdown",
   "metadata": {},
   "source": [
    "## Defining the cells with fire"
   ]
  },
  {
   "cell_type": "code",
   "execution_count": null,
   "metadata": {},
   "outputs": [],
   "source": [
    "Min_x = 300\n",
    "Max_x = 500\n",
    "Min_y = 100\n",
    "Max_y = 300\n",
    "Mst   = Mst_original.copy()\n",
    "\n",
    "Mst = Mst[(Mst.x > Min_x-1) & (Mst.x < Max_x) & (Mst.y > Min_y-1) & (Mst.y < Max_y)]\n",
    "Mst_o = Mst.copy()\n",
    "\n",
    "Mst = Mst[(Mst.x%R==0) & (Mst.y%R==0)]\n",
    "Mst_o = Mst_o[(Mst_o.x%Ro==0) & (Mst_o.y%Ro==0)]\n",
    "Mst = Mst.reset_index(drop=True)\n",
    "Mst_o = Mst_o.reset_index(drop=True)\n",
    "\n",
    "# Minimum and Maximum elevation\n",
    "Min_z = math.floor(Mst['Elevation'].min())\n",
    "Max_z = math.ceil(Mst['Elevation'].max())"
   ]
  },
  {
   "cell_type": "code",
   "execution_count": null,
   "metadata": {},
   "outputs": [],
   "source": [
    "Temp_indice = [i for i in Mst_o.index if (Mst_o['x'].iloc[i] in Hrr['x'].values) & (Mst_o['y'].iloc[i] in Hrr['y'].values)]"
   ]
  },
  {
   "cell_type": "code",
   "execution_count": null,
   "metadata": {},
   "outputs": [],
   "source": [
    "Indice = Mst_o.iloc[Temp_indice].index\n",
    "Indice2 = [i for i in Mst_o.index if i not in Indice.values]"
   ]
  },
  {
   "cell_type": "code",
   "execution_count": null,
   "metadata": {},
   "outputs": [],
   "source": [
    "Indice.shape"
   ]
  },
  {
   "cell_type": "code",
   "execution_count": null,
   "metadata": {},
   "outputs": [],
   "source": [
    "Child = 'Region2'\n",
    "T_begin = T_end\n",
    "T_end   = T_begin + 60\n",
    "filename = f\"{Child}.fds\"\n"
   ]
  },
  {
   "cell_type": "code",
   "execution_count": null,
   "metadata": {
    "scrolled": true
   },
   "outputs": [],
   "source": [
    "os.chdir(PATH)\n",
    "write_fds_file(T_begin, T_end, DT, PC, Nmx, Nmy, Nmz, Indice, Indice2, Child, HRRPUA)\n",
    "os.chdir(FDS_FOLDER)\n",
    "bash(['mpiexec', '-n', number_of_process,'fds',filename])"
   ]
  },
  {
   "cell_type": "code",
   "execution_count": null,
   "metadata": {},
   "outputs": [],
   "source": []
  }
 ],
 "metadata": {
  "kernelspec": {
   "display_name": "Python 3",
   "language": "python",
   "name": "python3"
  },
  "language_info": {
   "codemirror_mode": {
    "name": "ipython",
    "version": 3
   },
   "file_extension": ".py",
   "mimetype": "text/x-python",
   "name": "python",
   "nbconvert_exporter": "python",
   "pygments_lexer": "ipython3",
   "version": "3.8.5"
  }
 },
 "nbformat": 4,
 "nbformat_minor": 4
}
