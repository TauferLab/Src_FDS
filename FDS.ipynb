{
 "cells": [
  {
   "cell_type": "code",
   "execution_count": null,
   "metadata": {},
   "outputs": [],
   "source": [
    "import os"
   ]
  },
  {
   "cell_type": "code",
   "execution_count": null,
   "metadata": {},
   "outputs": [],
   "source": [
    "PATH =  os.getcwd()"
   ]
  },
  {
   "cell_type": "code",
   "execution_count": null,
   "metadata": {},
   "outputs": [],
   "source": [
    "%run -i code/utils.py"
   ]
  },
  {
   "cell_type": "markdown",
   "metadata": {},
   "source": [
    "# 1. Initialization"
   ]
  },
  {
   "cell_type": "code",
   "execution_count": null,
   "metadata": {},
   "outputs": [],
   "source": [
    "# Prompts user for FDS and fds2ascii executable paths\n",
    "fds_bin = input('File path to FDS executable: ')\n",
    "fds2ascii = input('File path to fds2ascii utility in FDS: ')"
   ]
  },
  {
   "cell_type": "markdown",
   "metadata": {},
   "source": [
    "## 1.1 Initial Region of Interest"
   ]
  },
  {
   "cell_type": "code",
   "execution_count": null,
   "metadata": {},
   "outputs": [],
   "source": [
    "# Reads in elevation file to extract region information\n",
    "name_of_file = 'Data/chimmey_tops_dem_1m_utm17n.csv'\n",
    "Mst_original = read_elevation(name_of_file)"
   ]
  },
  {
   "cell_type": "code",
   "execution_count": null,
   "metadata": {},
   "outputs": [],
   "source": [
    "# Coordinates of the Region's Border \n",
    "Min_x = 400        \n",
    "Max_x = 600\n",
    "\n",
    "Min_y = 0\n",
    "Max_y = 200\n",
    "\n",
    "Mst   = Mst_original.copy()\n",
    "Mst = Mst[(Mst.x > Min_x-1) \n",
    "        & (Mst.x < Max_x) \n",
    "        & (Mst.y > Min_y-1) \n",
    "        & (Mst.y < Max_y)]"
   ]
  },
  {
   "cell_type": "code",
   "execution_count": null,
   "metadata": {},
   "outputs": [],
   "source": [
    "# Defines the Resolution of the Meshes and the obstacles (in Meters)\n",
    "R = 4                                   # Resolution of Cells\n",
    "Mst = Mst[(Mst.x%R==0) & (Mst.y%R==0)]  # Filters data \n",
    "Ro = 4                                  # Resolution of Obstacles"
   ]
  },
  {
   "cell_type": "code",
   "execution_count": null,
   "metadata": {},
   "outputs": [],
   "source": [
    "# Defines range of elevation\n",
    "Min_z = math.floor(Mst['Elevation'].min())\n",
    "Max_z = math.ceil(Mst['Elevation'].max())"
   ]
  },
  {
   "cell_type": "markdown",
   "metadata": {},
   "source": [
    "## 1.2 Input FDS File Parameters"
   ]
  },
  {
   "cell_type": "code",
   "execution_count": null,
   "metadata": {},
   "outputs": [],
   "source": [
    "# Index for regions that we are simulating\n",
    "num_region = 1"
   ]
  },
  {
   "cell_type": "code",
   "execution_count": null,
   "metadata": {},
   "outputs": [],
   "source": [
    "# Set time interval\n",
    "T_begin    = 0.0\n",
    "DTT        = 60.0\n",
    "T_end      = T_begin + DTT\n",
    "DT         = 0.1\n",
    "\n",
    "# Set Number of meshes in x, y, z directions\n",
    "Nmx        = 2     \n",
    "Nmy        = 2     \n",
    "Nmz        = 2 \n",
    "\n",
    "PC         = 1         # Predictor-Corrector Status Flag\n",
    "Location   = [500,100] # Initial Location of the fire\n",
    "Child      = f\"Region{num_region}\" # Start of Sequential Domain Decomposition\n",
    "HRRPUA     = 1500      # Heat Release Rate (HRR)\n",
    "\n",
    "# File name conventions\n",
    "foldername = f'chimney'\n",
    "filename   = f'{Child}.fds'\n",
    "\n",
    "# Heat Release Rate (HRR) Minimum\n",
    "hrr_threshold = 10\n",
    "\n",
    "# Radius of the fire from the center\n",
    "fire_radius   = 100\n",
    "\n",
    "# Defining the dataframe with the HRR information\n",
    "Hrr = Mst[(Mst['x'] < Location[0]+5) & (Mst['x'] > Location[0]-5) & (Mst['y'] < Location[1]+5) & (Mst['y'] > Location[1]-5)]\n",
    "Hrr = Hrr[[Hrr.columns[0],Hrr.columns[1]]]\n",
    "Hrr['hrr'] = HRRPUA\n",
    "\n",
    "# Function to write input FDS file with parameter specified above\n",
    "write_fds_file(T_begin, T_end, DT, PC, Nmx, Nmy, Nmz, Hrr, Child)"
   ]
  },
  {
   "cell_type": "markdown",
   "metadata": {},
   "source": [
    "## 1.3 Sets Folders"
   ]
  },
  {
   "cell_type": "code",
   "execution_count": null,
   "metadata": {},
   "outputs": [],
   "source": [
    "FDS_FOLDER = f\"FDSFiles/{foldername}\" # Location of input FDS file\n",
    "\n",
    "os.chdir(f'{PATH}/{FDS_FOLDER}')      # Changes directory to run the input FDS file location"
   ]
  },
  {
   "cell_type": "markdown",
   "metadata": {},
   "source": [
    "## 1.4 Runs FDS"
   ]
  },
  {
   "cell_type": "code",
   "execution_count": null,
   "metadata": {},
   "outputs": [],
   "source": [
    "# User decides to run as a job on a job scheduler or directly through mpiexec command\n",
    "job_type = input(\"Are you running with a job scheduler? \\nIf so, is it LSF or Slurm?\\nIf not, you do not have to specify. \")"
   ]
  },
  {
   "cell_type": "code",
   "execution_count": null,
   "metadata": {},
   "outputs": [],
   "source": [
    "# Sets variables to use in job scripts/commands\n",
    "num_nodes = 1         # Number of compute nodes to run job on\n",
    "max_time = '3:00'     # Max time needed to run job\n",
    "number_of_process = 8 # Number of processes(cores) needed to run the created meshes\n",
    "omp_threads = 4       # Sets OpenMP Threads per process\n",
    "jobName = f'FDS_{Child}'"
   ]
  },
  {
   "cell_type": "code",
   "execution_count": null,
   "metadata": {},
   "outputs": [],
   "source": [
    "# Options: LSF, Slurm, or direct command (mpiexec)\n",
    "if job_type==\"LSF\" or job_type==\"Lsf\" or job_type=='lsf':\n",
    "    USER = os.getlogin()\n",
    "    create_job_script_lsf(Child, num_nodes, max_time, omp_threads)    # Creates LSF job submission script\n",
    "    os.system(f'bsub < job_{Child}.bsub') # Submits job script to the LSF job scheduler\n",
    "    job_id = Get_job_id(['bjobs', '-u', USER])\n",
    "    #job_id = input(\"Enter Job ID just started: \") # Gets the job id & waits for it to finish to run the rest of the notebook\n",
    "    jobs = [job_id]\n",
    "    wait_on_lsf()\n",
    "elif job_type==\"SLURM\" or job_type==\"Slurm\" or job_type==\"slurm\":\n",
    "    USER = os.getlogin()\n",
    "    create_job_script_slurm(Child, num_nodes, max_time, omp_threads)  # Creates Slurm job submission script\n",
    "    os.system(f'sbatch job_{Child}.sh')   # Submits job script to the Slurm job Scheduler\n",
    "    \n",
    "    job_id = input(\"Enter Job ID just started: \") # Gets the job id & waits for it to finish to run the rest of the notebook\n",
    "    jobs = [job_id]\n",
    "    wait_on_slurm()\n",
    "else: \n",
    "    os.environ['OMP_NUM_THREADS'] = f'{omp_threads}'                  # Sets OpenMP Threads to 4\n",
    "    os.system(f\"mpiexec -n {number_of_process} {fds_bin} {filename}\") # Runs FDS using 'mpiexec' command"
   ]
  },
  {
   "cell_type": "code",
   "execution_count": null,
   "metadata": {},
   "outputs": [],
   "source": [
    "remove_leading_space(f'{Child}.smv')  # Corrects .smv in order to work with fds2ascii"
   ]
  },
  {
   "cell_type": "markdown",
   "metadata": {},
   "source": [
    "# 2 Checkpoint Data Extraction"
   ]
  },
  {
   "cell_type": "markdown",
   "metadata": {},
   "source": [
    "## 2.1 Parses plot3d files "
   ]
  },
  {
   "cell_type": "code",
   "execution_count": null,
   "metadata": {},
   "outputs": [],
   "source": [
    "# Reads HRR data in plot3d files\n",
    "os.chdir(PATH)\n",
    "Number_of_meshes = Nmx*Nmy*Nmz\n",
    "reading_hrr(Child, Number_of_meshes)"
   ]
  },
  {
   "cell_type": "markdown",
   "metadata": {},
   "source": [
    "## 2.2 Extracts & converts HRR data to CSV files"
   ]
  },
  {
   "cell_type": "code",
   "execution_count": null,
   "metadata": {},
   "outputs": [],
   "source": [
    "# Reset current location back to starting location\n",
    "os.chdir(PATH)\n",
    "\n",
    "# Converts the CSV Files into Dataframes to be used to extract Heat Release Rate Values\n",
    "Hrr = pd.DataFrame()\n",
    "for i in range(1,Number_of_meshes+1):\n",
    "    temp = pd.read_csv(f\"{FDS_FOLDER}/{Child}_{i}.csv\")\n",
    "    temp = temp.drop(temp.index[0])\n",
    "    temp = temp.reset_index(drop=True)\n",
    "    Hrr  = Hrr.append(temp)\n",
    "    Hrr = Hrr.reset_index(drop=True)\n",
    "Hrr = Hrr[[Hrr.columns[0],Hrr.columns[1],Hrr.columns[2],Hrr.columns[7]]]\n",
    "Hrr.columns = ['x','y','z','hrr']\n",
    "\n",
    "file1 = open('FDSFiles/chimney/Region1_hrr.csv', 'r') \n",
    "Lines = file1.readlines() \n",
    "hrr_value = float(Lines[-1].split(\",\",2)[1])"
   ]
  },
  {
   "cell_type": "code",
   "execution_count": null,
   "metadata": {},
   "outputs": [],
   "source": [
    "# Cleans the data and sets the data type\n",
    "Hrr[\"hrr\"] = pd.to_numeric(Hrr[\"hrr\"], downcast=\"float\")\n",
    "Hrr[\"x\"] = pd.to_numeric(Hrr[\"x\"], downcast=\"float\")\n",
    "Hrr[\"y\"] = pd.to_numeric(Hrr[\"y\"], downcast=\"float\")\n",
    "Hrr[\"z\"] = pd.to_numeric(Hrr[\"z\"], downcast=\"float\")\n",
    "Mst[\"x\"] = pd.to_numeric(Mst[\"x\"], downcast=\"float\")\n",
    "Mst[\"y\"] = pd.to_numeric(Mst[\"y\"], downcast=\"float\")\n",
    "Mst.shape"
   ]
  },
  {
   "cell_type": "code",
   "execution_count": null,
   "metadata": {},
   "outputs": [],
   "source": [
    "# Filters HRR values greater than the specified threshold\n",
    "Hrr = Hrr[Hrr['hrr'] > hrr_threshold]\n",
    "Hrr['hrr'] = (hrr_value/(4*4*4*Hrr['hrr'].sum()))*Hrr['hrr']\n",
    "#suma_hrr = Hrr['hrr'].sum()"
   ]
  },
  {
   "cell_type": "markdown",
   "metadata": {},
   "source": [
    "# Repeat Steps 1.2 - 3 (Loop)"
   ]
  },
  {
   "cell_type": "code",
   "execution_count": null,
   "metadata": {},
   "outputs": [],
   "source": [
    "# Defining the center of the location of the fire\n",
    "center_x =  math.floor(Hrr[\"x\"].mean())\n",
    "center_y =  math.floor(Hrr[\"y\"].mean())"
   ]
  },
  {
   "cell_type": "code",
   "execution_count": null,
   "metadata": {},
   "outputs": [],
   "source": [
    "# Update Region Number to next one, if needed\n",
    "num_region = num_region + 1\n",
    "\n",
    "# Coordinates of the new region's border\n",
    "Min_x = center_x - fire_radius\n",
    "Max_x = center_x + fire_radius\n",
    "Min_y = center_y - fire_radius\n",
    "Max_y = center_y + fire_radius\n",
    "Mst   = Mst_original.copy()\n",
    "Mst = Mst[(Mst.x > Min_x-Ro) & (Mst.x < Max_x) & (Mst.y > Min_y-Ro) & (Mst.y < Max_y)]\n",
    "Mst = Mst[(Mst.x%R==0) & (Mst.y%R==0)]\n",
    "\n",
    "# Range of elevation\n",
    "Min_z = math.floor(Mst['Elevation'].min())\n",
    "Max_z = math.ceil(Mst['Elevation'].max())"
   ]
  },
  {
   "cell_type": "code",
   "execution_count": null,
   "metadata": {},
   "outputs": [],
   "source": [
    "# Defines input variables for the next region (with respect to the previous FDS run)\n",
    "T_begin = T_end\n",
    "T_end   = T_begin+DTT\n",
    "Child   = f\"Region{num_region}\"\n",
    "foldername = f'chimney'\n",
    "filename   = f'{Child}.fds'"
   ]
  },
  {
   "cell_type": "code",
   "execution_count": null,
   "metadata": {},
   "outputs": [],
   "source": [
    "# Recreates input FDS file for the next region of interest\n",
    "restart_fds_file(T_begin, T_end, DT, PC, Nmx, Nmy, Nmz, Hrr, Child)\n",
    "\n",
    "# Change current location to the input FDS file location\n",
    "os.chdir(f\"{PATH}/{FDS_FOLDER}\") \n",
    "\n",
    "# Clear the list of jobids\n",
    "if 'jobs' in locals():\n",
    "    jobs.clear()"
   ]
  },
  {
   "cell_type": "code",
   "execution_count": null,
   "metadata": {},
   "outputs": [],
   "source": [
    "# Options: LSF, Slurm, or direct command (mpiexec)\n",
    "if job_type==\"LSF\" or job_type==\"Lsf\" or job_type=='lsf':\n",
    "    create_job_script_lsf(Child, num_nodes, max_time, omp_threads)    # Creates LSF job submission script\n",
    "    os.system(f'bsub < job_{Child}.bsub') # Submits job script to the LSF job scheduler\n",
    "    \n",
    "    job_id = Get_job_id(['bjobs', '-u', USER])\n",
    "    #job_id = input(\"Enter Job ID just started: \") # Gets the job id & waits for it to finish to run the rest of the notebook\n",
    "    jobs = [job_id]\n",
    "    wait_on_lsf()\n",
    "elif job_type==\"SLURM\" or job_type==\"Slurm\" or job_type==\"slurm\":\n",
    "    create_job_script_slurm(Child, num_nodes, max_time, omp_threads)  # Creates Slurm job submission script\n",
    "    os.system(f'sbatch job_{Child}.sh')   # Submits job script to the Slurm job Scheduler\n",
    "    \n",
    "    job_id = input(\"Enter Job ID just started: \") # Gets the job id & waits for it to finish to run the rest of the notebook\n",
    "    jobs = [job_id]\n",
    "    wait_on_slurm()\n",
    "else: \n",
    "    os.environ['OMP_NUM_THREADS'] = f'{omp_threads}'                  # Sets OpenMP Threads to 4\n",
    "    os.system(f\"mpiexec -n {number_of_process} {fds_bin} {filename}\") # Runs FDS using 'mpiexec' command"
   ]
  }
 ],
 "metadata": {
  "kernelspec": {
   "display_name": "Python 3",
   "language": "python",
   "name": "python3"
  },
  "language_info": {
   "codemirror_mode": {
    "name": "ipython",
    "version": 3
   },
   "file_extension": ".py",
   "mimetype": "text/x-python",
   "name": "python",
   "nbconvert_exporter": "python",
   "pygments_lexer": "ipython3",
   "version": "3.8.5"
  }
 },
 "nbformat": 4,
 "nbformat_minor": 4
}
