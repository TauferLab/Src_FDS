{
 "cells": [
  {
   "cell_type": "code",
   "execution_count": null,
   "metadata": {},
   "outputs": [],
   "source": [
    "%run -i code/utils.py"
   ]
  },
  {
   "cell_type": "markdown",
   "metadata": {},
   "source": [
    "# 1. Reading Elevation File"
   ]
  },
  {
   "cell_type": "code",
   "execution_count": null,
   "metadata": {},
   "outputs": [],
   "source": [
    "name_of_file = 'Data/chimmey_tops_dem_1m_utm17n.csv'\n",
    "Mst_original = read_elevation(name_of_file)"
   ]
  },
  {
   "cell_type": "markdown",
   "metadata": {},
   "source": [
    "# 2. Creating the input FDS file\n",
    "## 2.1 Defining the Region Where the Simulation Takes Place"
   ]
  },
  {
   "cell_type": "code",
   "execution_count": null,
   "metadata": {},
   "outputs": [],
   "source": [
    "Min_x = 400\n",
    "Max_x = 600\n",
    "Min_y = 0\n",
    "Max_y = 200\n",
    "Mst   = Mst_original.copy()\n",
    "Mst = Mst[(Mst.x > Min_x-1) & (Mst.x < Max_x) & (Mst.y > Min_y-1) & (Mst.y < Max_y)]"
   ]
  },
  {
   "cell_type": "markdown",
   "metadata": {},
   "source": [
    "# 2.2 Defining the Resolution of the Meshes and the obstacles in Meters"
   ]
  },
  {
   "cell_type": "code",
   "execution_count": null,
   "metadata": {},
   "outputs": [],
   "source": [
    "# Comments\n",
    "R = 4                                   # Define the resolution of the cells\n",
    "Mst = Mst[(Mst.x%R==0) & (Mst.y%R==0)]  # Filtering the data \n",
    "Ro = 4                                  # Define the resolution of the obstacles\n"
   ]
  },
  {
   "cell_type": "markdown",
   "metadata": {},
   "source": [
    "## 2.3 Calculating the Range of the Elevation "
   ]
  },
  {
   "cell_type": "code",
   "execution_count": null,
   "metadata": {},
   "outputs": [],
   "source": [
    "# Minimum and Maximum elevation\n",
    "Min_z = math.floor(Mst['Elevation'].min())-4\n",
    "Max_z = math.ceil(Mst['Elevation'].max())\n"
   ]
  },
  {
   "cell_type": "markdown",
   "metadata": {},
   "source": [
    "# 2.4 Writing the FDS File "
   ]
  },
  {
   "cell_type": "code",
   "execution_count": null,
   "metadata": {},
   "outputs": [],
   "source": [
    "# Defining the time variables\n",
    "T_begin    = 0.0\n",
    "DTT        = 60.0\n",
    "T_end      = T_begin + DTT\n",
    "DT         = 0.1\n",
    "\n",
    "# Number of meshes in x, y, z directions\n",
    "Nmx        = 2     \n",
    "Nmy        = 2     \n",
    "Nmz        = 2 \n",
    "\n",
    "PC         = 1         # Predictor-Corrector Status Flag\n",
    "Location   = [500,100] # Initial Location of the fire\n",
    "Child      = 'Region1' # Start of Sequential Domain Decomposition\n",
    "HRRPUA     = 1500      # Heat Release Rate (HRR)\n",
    "\n",
    "# File name conventions\n",
    "foldername = f'chimney'\n",
    "filename   = f'{Child}.fds'\n",
    "\n",
    "# Defining the dataframe with the HRR information\n",
    "Hrr = Mst[(Mst['x'] < Location[0]+5) & (Mst['x'] > Location[0]-5) & (Mst['y'] < Location[1]+5) & (Mst['y'] > Location[1]-5)]\n",
    "Hrr = Hrr[[Hrr.columns[0],Hrr.columns[1]]]\n",
    "Hrr['hrr'] = HRRPUA\n",
    "\n",
    "# Function to write input FDS file with parameter specified above\n",
    "write_fds_file(T_begin, T_end, DT, PC, Nmx, Nmy, Nmz, Hrr, Child)"
   ]
  },
  {
   "cell_type": "markdown",
   "metadata": {},
   "source": [
    "# 3 Running the FDS program"
   ]
  },
  {
   "cell_type": "markdown",
   "metadata": {},
   "source": [
    "## 3.1 Defining the folder where the FDS input file is located"
   ]
  },
  {
   "cell_type": "code",
   "execution_count": null,
   "metadata": {},
   "outputs": [],
   "source": [
    "PATH =  os.getcwd()\n",
    "Bin_folder = f\"{PATH}/Bin\"\n",
    "FDS_FOLDER = f\"FDSFiles/{foldername}\"\n",
    "os.chdir(FDS_FOLDER)"
   ]
  },
  {
   "cell_type": "markdown",
   "metadata": {},
   "source": [
    "## 3.2 Running the FDS program"
   ]
  },
  {
   "cell_type": "code",
   "execution_count": null,
   "metadata": {},
   "outputs": [],
   "source": [
    "number_of_process = 4                 # Number of processes(cores) needed to run the created meshes\n",
    "os.environ['OMP_NUM_THREADS'] = '4'   # Sets OpenMP Threads to 4"
   ]
  },
  {
   "cell_type": "code",
   "execution_count": null,
   "metadata": {},
   "outputs": [],
   "source": [
    "os.chdir(f'{PATH}/{FDS_FOLDER}')\n",
    "os.system(f\"mpiexec -n {number_of_process} fds {filename}\")"
   ]
  },
  {
   "cell_type": "markdown",
   "metadata": {},
   "source": [
    "# 4 Converting the HRR Information from the plot3d Files to CSV Files"
   ]
  },
  {
   "cell_type": "code",
   "execution_count": null,
   "metadata": {},
   "outputs": [],
   "source": [
    "os.chdir(PATH)\n",
    "Number_of_meshes = Nmx*Nmy*Nmz\n",
    "\n",
    "reading_hrr(Child, Number_of_meshes)"
   ]
  },
  {
   "cell_type": "markdown",
   "metadata": {},
   "source": [
    "# 5 Extracting the HRR from the CSV Files"
   ]
  },
  {
   "cell_type": "markdown",
   "metadata": {},
   "source": [
    "## 5.1 Converting the CSV Files into Dataframes"
   ]
  },
  {
   "cell_type": "code",
   "execution_count": null,
   "metadata": {},
   "outputs": [],
   "source": [
    "os.chdir(PATH)\n",
    "Hrr = pd.DataFrame()\n",
    "for i in range(1,Number_of_meshes+1):\n",
    "    temp = pd.read_csv(f\"{FDS_FOLDER}/{Child}_{i}.csv\")\n",
    "    temp = temp.drop(temp.index[0])\n",
    "    temp = temp.reset_index(drop=True)\n",
    "    Hrr  = Hrr.append(temp)\n",
    "    Hrr = Hrr.reset_index(drop=True)\n",
    "Hrr = Hrr[[Hrr.columns[0],Hrr.columns[1],Hrr.columns[2],Hrr.columns[7]]]\n",
    "Hrr.columns = ['x','y','z','hrr']"
   ]
  },
  {
   "cell_type": "markdown",
   "metadata": {},
   "source": [
    "## 5.2 Cleaning the Data and Matching the Format of Numbers"
   ]
  },
  {
   "cell_type": "code",
   "execution_count": null,
   "metadata": {},
   "outputs": [],
   "source": [
    "Hrr[\"hrr\"] = pd.to_numeric(Hrr[\"hrr\"], downcast=\"float\")\n",
    "Hrr[\"x\"] = pd.to_numeric(Hrr[\"x\"], downcast=\"float\")\n",
    "Hrr[\"y\"] = pd.to_numeric(Hrr[\"y\"], downcast=\"float\")\n",
    "Hrr[\"z\"] = pd.to_numeric(Hrr[\"z\"], downcast=\"float\")\n",
    "Mst[\"x\"] = pd.to_numeric(Mst[\"x\"], downcast=\"float\")\n",
    "Mst[\"y\"] = pd.to_numeric(Mst[\"y\"], downcast=\"float\")\n",
    "Mst.shape"
   ]
  },
  {
   "cell_type": "markdown",
   "metadata": {},
   "source": [
    "## 5.3 Extracting the values of HRR greater than 10"
   ]
  },
  {
   "cell_type": "code",
   "execution_count": null,
   "metadata": {},
   "outputs": [],
   "source": [
    "Hrr = Hrr[Hrr['hrr']>10]"
   ]
  },
  {
   "cell_type": "markdown",
   "metadata": {},
   "source": [
    "# 6 Defining the cells with fire"
   ]
  },
  {
   "cell_type": "code",
   "execution_count": null,
   "metadata": {},
   "outputs": [],
   "source": [
    "Min_x = 300\n",
    "Max_x = 500\n",
    "Min_y = 100\n",
    "Max_y = 300\n",
    "Mst   = Mst_original.copy()\n",
    "Mst = Mst[(Mst.x > Min_x-1) & (Mst.x < Max_x) & (Mst.y > Min_y-1) & (Mst.y < Max_y)]\n",
    "Mst = Mst[(Mst.x%R==0) & (Mst.y%R==0)]\n",
    "# Minimum and Maximum elevation\n",
    "Min_z = math.floor(Mst['Elevation'].min())-4\n",
    "Max_z = math.ceil(Mst['Elevation'].max())"
   ]
  },
  {
   "cell_type": "code",
   "execution_count": null,
   "metadata": {},
   "outputs": [],
   "source": [
    "T_begin = T_end\n",
    "T_end   = T_begin+DTT\n",
    "Child   = 'Region2'\n",
    "foldername = f'chimney'\n",
    "filename   = f'{Child}.fds'"
   ]
  },
  {
   "cell_type": "code",
   "execution_count": null,
   "metadata": {},
   "outputs": [],
   "source": [
    "restart_fds_file(T_begin, T_end, DT, PC, Nmx, Nmy, Nmz, Hrr, Child)"
   ]
  },
  {
   "cell_type": "code",
   "execution_count": null,
   "metadata": {},
   "outputs": [],
   "source": [
    "os.chdir(PATH)\n",
    "os.chdir(FDS_FOLDER)\n",
    "number_of_process = 4\n",
    "os.system(f\"mpiexec -n {number_of_process} fds {filename}\")\n",
    "# bash(['mpiexec', '-n', number_of_process,'fds',filename])"
   ]
  },
  {
   "cell_type": "code",
   "execution_count": null,
   "metadata": {},
   "outputs": [],
   "source": []
  }
 ],
 "metadata": {
  "kernelspec": {
   "display_name": "Python 3",
   "language": "python",
   "name": "python3"
  },
  "language_info": {
   "codemirror_mode": {
    "name": "ipython",
    "version": 3
   },
   "file_extension": ".py",
   "mimetype": "text/x-python",
   "name": "python",
   "nbconvert_exporter": "python",
   "pygments_lexer": "ipython3",
   "version": "3.8.3"
  }
 },
 "nbformat": 4,
 "nbformat_minor": 4
}
