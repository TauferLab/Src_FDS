{
 "cells": [
  {
   "cell_type": "code",
   "execution_count": null,
   "metadata": {},
   "outputs": [],
   "source": [
    "import pyvista as pv\n",
    "import numpy as np\n",
    "import fdsreader as fds"
   ]
  },
  {
   "cell_type": "code",
   "execution_count": null,
   "metadata": {},
   "outputs": [],
   "source": [
    "sim = fds.Simulation(\"./FDSFiles/Region1\")"
   ]
  },
  {
   "cell_type": "code",
   "execution_count": null,
   "metadata": {},
   "outputs": [],
   "source": [
    "# Select the seconds mesh (index counting starts at 0)\n",
    "mesh = sim.meshes[6]\n",
    "extent = mesh.extent\n",
    "\n",
    "# Select the last available timestep\n",
    "t = -1\n",
    "# Load 3D data for that timestep\n",
    "pl_t1 = sim.data_3d[t]\n",
    "\n",
    "# Create 3D grid\n",
    "x_ = np.linspace(extent.x_start, extent.x_end, mesh.dimension['x'])\n",
    "y_ = np.linspace(extent.y_start, extent.y_end, mesh.dimension['y'])  # y_ = np.array([29])\n",
    "z_ = np.linspace(extent.z_start, extent.z_end, mesh.dimension['z'])\n",
    "x, y, z = np.meshgrid(x_, y_, z_, indexing='ij')\n",
    "points = np.stack((x.flatten(), y.flatten(), z.flatten()), axis=1)\n",
    "\n",
    "# Select a quantity\n",
    "quantity_idx = 0\n",
    "quantity = pl_t1.quantities[quantity_idx]\n",
    "\n",
    "# Get 3D data for a specific quantity\n",
    "color_data = pl_t1[mesh].data[:, :, :, quantity_idx]\n",
    "# It is also possible to just plot a slice\n",
    "# color_data = pl_t1[mesh].data[:, 29:30, :, quantity_idx]\n",
    "\n",
    "# Plot 3D data\n",
    "plotter = pv.Plotter()\n",
    "plotter.add_mesh(pv.PolyData(points), scalars=color_data.flatten(),\n",
    "                 opacity=0.3, render_points_as_spheres=False, point_size=25)\n",
    "plotter.add_scalar_bar(title=quantity.quantity)\n",
    "plotter.show()"
   ]
  },
  {
   "cell_type": "code",
   "execution_count": null,
   "metadata": {},
   "outputs": [],
   "source": []
  }
 ],
 "metadata": {
  "kernelspec": {
   "display_name": "Python 3",
   "language": "python",
   "name": "python3"
  },
  "language_info": {
   "codemirror_mode": {
    "name": "ipython",
    "version": 3
   },
   "file_extension": ".py",
   "mimetype": "text/x-python",
   "name": "python",
   "nbconvert_exporter": "python",
   "pygments_lexer": "ipython3",
   "version": "3.7.0"
  }
 },
 "nbformat": 4,
 "nbformat_minor": 4
}
