{
 "cells": [
  {
   "cell_type": "code",
   "execution_count": 1,
   "metadata": {},
   "outputs": [],
   "source": [
    "import os\n",
    "PATH =  os.getcwd()\n",
    "%run -i code/utils.py"
   ]
  },
  {
   "cell_type": "code",
   "execution_count": 2,
   "metadata": {},
   "outputs": [],
   "source": [
    "# Prompts user for FDS and fds2ascii executable paths & email to send notifcation\n",
    "#fds_bin = input('File path to FDS executable: ')\n",
    "#fds2ascii = input('File path to fds2ascii utility in FDS: ')\n",
    "fds_bin = 'fds'\n",
    "fds2ascii = 'fds2ascii'"
   ]
  },
  {
   "cell_type": "code",
   "execution_count": 3,
   "metadata": {},
   "outputs": [],
   "source": [
    "# Reads in elevation file to extract region information\n",
    "name_of_file = 'Data/chimmey_tops_dem_1m_utm17n.csv'\n",
    "Mst_original = read_elevation(name_of_file)"
   ]
  },
  {
   "cell_type": "code",
   "execution_count": 4,
   "metadata": {},
   "outputs": [],
   "source": [
    "# Global Coordinates\n",
    "North = 1000\n",
    "South = 0\n",
    "East  = 1000\n",
    "West  = 0\n",
    "# Coordinates of the Region's Border \n",
    "Min_x = 400        \n",
    "Max_x = 600\n",
    "\n",
    "Min_y = 0\n",
    "Max_y = 200\n",
    "\n",
    "Mst   = Mst_original.copy()\n",
    "Mst['Elevation']   = Mst['Elevation']-Mst['Elevation'].min()\n",
    "Mst = Mst[(Mst.x > Min_x-1) \n",
    "        & (Mst.x < Max_x+1) \n",
    "        & (Mst.y > Min_y-1) \n",
    "        & (Mst.y < Max_y+1)]"
   ]
  },
  {
   "cell_type": "code",
   "execution_count": 5,
   "metadata": {},
   "outputs": [],
   "source": [
    "# Defines the Resolution of the Meshes and the obstacles (in Meters)\n",
    "R = 4                                   # Resolution of Cells\n",
    "Mst = Mst[(Mst.x%R==0) & (Mst.y%R==0)]  # Filters data \n",
    "Ro = 4    # Resolution of Obstacles\n",
    "\n",
    "Mst['Elevation'] = Mst['Elevation']-Mst['Elevation']%Ro"
   ]
  },
  {
   "cell_type": "code",
   "execution_count": 6,
   "metadata": {},
   "outputs": [],
   "source": [
    "# Defines range of elevation\n",
    "Min_z = math.floor(Mst['Elevation'].min())\n",
    "Min_z = Min_z-(Min_z%(2*R))\n",
    "Max_z = math.ceil(Mst['Elevation'].max())\n",
    "Max_z = Max_z + (2*R-Max_z%(2*R))"
   ]
  },
  {
   "cell_type": "code",
   "execution_count": 7,
   "metadata": {},
   "outputs": [
    {
     "data": {
      "text/plain": [
       "472"
      ]
     },
     "execution_count": 7,
     "metadata": {},
     "output_type": "execute_result"
    }
   ],
   "source": [
    "Max_z"
   ]
  },
  {
   "cell_type": "code",
   "execution_count": 8,
   "metadata": {},
   "outputs": [],
   "source": [
    "# Index for regions that we are simulating\n",
    "num_region = 1"
   ]
  },
  {
   "cell_type": "code",
   "execution_count": 9,
   "metadata": {},
   "outputs": [],
   "source": [
    "# Set time interval\n",
    "T_begin    = 0.0\n",
    "DTT        = 60.0\n",
    "T_end      = T_begin + DTT\n",
    "DT         = 0.1\n",
    "\n",
    "# Set Number of meshes in x, y, z directions\n",
    "Nmx        = 2     \n",
    "Nmy        = 2     \n",
    "Nmz        = 2 \n",
    "\n",
    "PC         = 1         # Predictor-Corrector Status Flag\n",
    "Location   = [500,100] # Initial Location of the fire\n",
    "Child      = f\"Region{num_region}\" # Start of Sequential Domain Decomposition\n",
    "HRRPUA     = 1500      # Heat Release Rate (HRR)\n",
    "\n",
    "# File name conventions\n",
    "foldername = f'chimney'\n",
    "filename   = f'{Child}.fds'\n",
    "\n",
    "# Heat Release Rate (HRR) Minimum\n",
    "hrr_threshold = 10\n",
    "\n",
    "# Radius of the fire from the center\n",
    "fire_radius   = 100\n",
    "\n",
    "# Defining the dataframe with the HRR information\n",
    "Hrr = Mst[(Mst['x'] < Location[0]+Ro+1) & (Mst['x'] > Location[0]-Ro-1) & (Mst['y'] < Location[1]+Ro+1) & (Mst['y'] > Location[1]-Ro-1)]\n",
    "Hrr = Hrr[[Hrr.columns[0],Hrr.columns[1]]]\n",
    "Hrr['hrr'] = HRRPUA\n",
    "\n",
    "# Function to write input FDS file with parameter specified above\n",
    "write_fds_file(T_begin, T_end, DT, PC, Nmx, Nmy, Nmz, Hrr, Child)"
   ]
  },
  {
   "cell_type": "code",
   "execution_count": 10,
   "metadata": {},
   "outputs": [],
   "source": [
    "FDS_FOLDER = f\"FDSFiles/{foldername}\" # Location of input FDS file\n",
    "\n",
    "os.chdir(f'{PATH}/{FDS_FOLDER}')      # Changes directory to run the input FDS file location"
   ]
  },
  {
   "cell_type": "code",
   "execution_count": 11,
   "metadata": {},
   "outputs": [],
   "source": [
    "# User decides to run as a job on a job scheduler or directly through mpiexec command\n",
    "#job_type = input(\"Are you running with a job scheduler? \\nIf so, is it LSF or Slurm?\\nIf not, you do not have to specify. \")\n",
    "job_type = ''"
   ]
  },
  {
   "cell_type": "code",
   "execution_count": 12,
   "metadata": {},
   "outputs": [],
   "source": [
    "# Sets variables to use in job scripts/commands\n",
    "num_nodes = 1             # Number of compute nodes to run job on\n",
    "max_time = '3:00'         # Max time needed to run job (d-hh:mm:ss)\n",
    "number_of_process = 2     # Number of processes(cores) needed to run the created meshes\n",
    "omp_threads = 4           # Sets OpenMP Threads per process\n",
    "jobName = f'FDS_{Child}'"
   ]
  },
  {
   "cell_type": "code",
   "execution_count": 13,
   "metadata": {},
   "outputs": [],
   "source": [
    "# Options: LSF, Slurm, or direct command (mpiexec)\n",
    "if job_type==\"LSF\" or job_type==\"Lsf\" or job_type=='lsf':\n",
    "    USER = os.getlogin()\n",
    "    create_job_script_lsf(Child, num_nodes, max_time, omp_threads)    # Creates LSF job submission script\n",
    "    os.system(f'bsub < job_{Child}.bsub') # Submits job script to the LSF job scheduler\n",
    "    \n",
    "    job_id = Get_job_id(['bjobs', '-u', USER])\n",
    "    jobs = [job_id]\n",
    "    wait_on_lsf()\n",
    "    \n",
    "elif job_type==\"SLURM\" or job_type==\"Slurm\" or job_type==\"slurm\":\n",
    "    USER = os.getlogin()\n",
    "    \n",
    "#     partition = 'skx-normal' # Can be changed to another other partition used on TACC's Stampede2\n",
    "    \n",
    "    create_job_script_slurm(Child, num_nodes, max_time, omp_threads)  # Creates Slurm job submission script\n",
    "    os.system(f'sbatch job_{Child}.sh')   # Submits job script to the Slurm job Scheduler\n",
    "    \n",
    "    job_id - Get_job_id(['squeue', '-u', USER])\n",
    "    jobs = [job_id]\n",
    "    wait_on_slurm()\n",
    "    \n",
    "else: \n",
    "    os.environ['OMP_NUM_THREADS'] = f'{omp_threads}'                  # Sets OpenMP Threads to 4\n",
    "    os.system(f\"mpiexec -n {number_of_process} {fds_bin} {filename}\") # Runs FDS using 'mpiexec' command"
   ]
  },
  {
   "cell_type": "code",
   "execution_count": 14,
   "metadata": {},
   "outputs": [],
   "source": [
    "# Corrects .smv in order to work with fds2ascii\n",
    "remove_leading_space(f'{Child}.smv') \n",
    "\n",
    "# Reads HRR data in plot3d files\n",
    "os.chdir(PATH)\n",
    "Number_of_meshes = Nmx*Nmy*Nmz\n",
    "reading_hrr(Child, Number_of_meshes)\n",
    "\n",
    "## 2.2 Extracts & converts HRR data to CSV files\n",
    "\n",
    "# Reset current location back to starting location\n",
    "os.chdir(PATH)\n",
    "\n",
    "# Converts the CSV Files into Dataframes to be used to extract Heat Release Rate Values\n",
    "Hrr = pd.DataFrame()\n",
    "for i in range(1,Number_of_meshes+1):\n",
    "    temp = pd.read_csv(f\"{FDS_FOLDER}/{Child}_{i}.csv\")\n",
    "    temp = temp.drop(temp.index[0])\n",
    "    temp = temp.reset_index(drop=True)\n",
    "    Hrr  = Hrr.append(temp)\n",
    "    Hrr = Hrr.reset_index(drop=True)\n",
    "Hrr = Hrr[[Hrr.columns[0],Hrr.columns[1],Hrr.columns[2],Hrr.columns[7]]]\n",
    "Hrr.columns = ['x','y','z','hrr']\n",
    "\n",
    "file1 = open(f'FDSFiles/chimney/{Child}_hrr.csv', 'r') \n",
    "Lines = file1.readlines() \n",
    "hrr_value = float(Lines[-1].split(\",\",2)[1])\n",
    "\n",
    "# Cleans the data and sets the data type\n",
    "Hrr[\"hrr\"] = pd.to_numeric(Hrr[\"hrr\"], downcast=\"float\")\n",
    "Hrr[\"x\"] = pd.to_numeric(Hrr[\"x\"], downcast=\"float\")\n",
    "Hrr[\"y\"] = pd.to_numeric(Hrr[\"y\"], downcast=\"float\")\n",
    "Hrr[\"z\"] = pd.to_numeric(Hrr[\"z\"], downcast=\"float\")\n",
    "Mst[\"x\"] = pd.to_numeric(Mst[\"x\"], downcast=\"float\")\n",
    "Mst[\"y\"] = pd.to_numeric(Mst[\"y\"], downcast=\"float\")\n",
    "Mst.shape\n",
    "# Filters HRR values greater than the specified threshold\n",
    "Hrr = Hrr[Hrr['hrr'] > hrr_threshold]\n",
    "#Hrr = Hrr[Hrr['hrr'] != 0]\n",
    "minimo_x = Hrr['x'].min()\n",
    "maximo_x = Hrr['x'].max()\n",
    "\n",
    "minimo_y = Hrr['y'].min()\n",
    "maximo_y = Hrr['y'].max()\n",
    "# Defining the center of the location of the fire\n",
    "#indice_maximo = Hrr['hrr'].idxmax()\n",
    "#center_x =  math.floor(Hrr['x'].loc[indice_maximo])\n",
    "#center_y =  math.floor(Hrr[\"y\"].loc[indice_maximo])\n",
    "center_x = math.floor((minimo_x+maximo_x)/2)\n",
    "center_y = math.floor((minimo_y+maximo_y)/2)\n",
    "\n",
    "center_x = center_x - (center_x%Ro)\n",
    "center_y = center_y - (center_y%Ro)\n",
    "\n",
    "#if ((center_x < West)  or (center_x > East) or (center_y < South) or (center_y > North)):\n",
    "#    break\n",
    "\n",
    "# Update Region Number to next one, if needed\n",
    "num_region = num_region + 1\n",
    "\n",
    "# Coordinates of the new region's border\n",
    "Min_x = max(center_x - fire_radius, West)\n",
    "Max_x = min(center_x + fire_radius, East)\n",
    "Min_y = max(center_y - fire_radius, South)\n",
    "Max_y = min(center_y + fire_radius, North) \n",
    "Mst   = Mst_original.copy()\n",
    "Mst = Mst[(Mst.x > Min_x-Ro-1) & (Mst.x < Max_x+Ro+1) & (Mst.y > Min_y-Ro-1) & (Mst.y < Max_y+Ro+1)]\n",
    "Mst = Mst[(Mst.x%Ro==0) & (Mst.y%Ro==0)]\n",
    "Mst['Elevation'] = Mst['Elevation']-Mst['Elevation']%Ro\n",
    "# Range of elevation\n",
    "# Defines range of elevation\n",
    "# Defines range of elevation\n",
    "Min_z = math.floor(Mst['Elevation'].min())\n",
    "Min_z = Min_z-(Min_z%(2*R))\n",
    "Max_z = math.ceil(Mst['Elevation'].max())\n",
    "Max_z = Max_z + (2*R-Max_z%(2*R))\n",
    "\n",
    "#if(Hrr['hrr'].sum()==0):\n",
    "#    break\n",
    "# Determining the 'volumen' of the cells\n"
   ]
  },
  {
   "cell_type": "code",
   "execution_count": 24,
   "metadata": {},
   "outputs": [],
   "source": [
    "count_under = 0\n",
    "for ind in Hrr.index:\n",
    "        x = Hrr['x'][ind]\n",
    "        y = Hrr['y'][ind] \n",
    "        elevation = return_elevation(Mst, x, y)\n",
    "        diferencia = elevation - Hrr['z'][ind]\n",
    "        if (diferencia>0):\n",
    "            Hrr = Hrr.drop([ind])\n"
   ]
  },
  {
   "cell_type": "code",
   "execution_count": 27,
   "metadata": {},
   "outputs": [],
   "source": [
    "count_under = 0\n",
    "for ind in Hrr.index:\n",
    "        x = Hrr['x'][ind]\n",
    "        y = Hrr['y'][ind] \n",
    "        elevation = return_elevation(Mst, x, y)\n",
    "        diferencia = elevation - Hrr['z'][ind]\n",
    "        if (diferencia>0):\n",
    "            count_under = count_under+1"
   ]
  },
  {
   "cell_type": "code",
   "execution_count": 28,
   "metadata": {},
   "outputs": [
    {
     "data": {
      "text/plain": [
       "0"
      ]
     },
     "execution_count": 28,
     "metadata": {},
     "output_type": "execute_result"
    }
   ],
   "source": [
    "count_under"
   ]
  },
  {
   "cell_type": "code",
   "execution_count": null,
   "metadata": {},
   "outputs": [],
   "source": []
  }
 ],
 "metadata": {
  "kernelspec": {
   "display_name": "Python 3",
   "language": "python",
   "name": "python3"
  },
  "language_info": {
   "codemirror_mode": {
    "name": "ipython",
    "version": 3
   },
   "file_extension": ".py",
   "mimetype": "text/x-python",
   "name": "python",
   "nbconvert_exporter": "python",
   "pygments_lexer": "ipython3",
   "version": "3.8.3"
  }
 },
 "nbformat": 4,
 "nbformat_minor": 4
}
