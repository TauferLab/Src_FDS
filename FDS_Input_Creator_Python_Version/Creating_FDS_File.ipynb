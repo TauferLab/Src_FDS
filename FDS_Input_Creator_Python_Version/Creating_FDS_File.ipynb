{
 "cells": [
  {
   "cell_type": "code",
   "execution_count": null,
   "metadata": {},
   "outputs": [],
   "source": [
    "import pandas as pd\n",
    "import numpy as np\n",
    "import math\n",
    "from mpl_toolkits import mplot3d\n",
    "%matplotlib inline\n",
    "import numpy as np\n",
    "import matplotlib.pyplot as plt\n",
    "from matplotlib import cm\n",
    "from mpl_toolkits.mplot3d.art3d import Poly3DCollection\n",
    "import time\n",
    "import os.path\n",
    "from os import path\n",
    "from time import time, strftime, gmtime, localtime"
   ]
  },
  {
   "cell_type": "markdown",
   "metadata": {},
   "source": [
    "# 1. Reading Elevation and Moisture File"
   ]
  },
  {
   "cell_type": "code",
   "execution_count": null,
   "metadata": {},
   "outputs": [],
   "source": [
    "#Mst = pd.read_csv('MoistureFile/MoistureAndElevationUTMTraslated201610.csv')\n",
    "#Mst_o = pd.read_csv('MoistureFile/MoistureAndElevationUTMTraslated201610.csv')\n",
    "\n",
    "Mst = pd.read_csv('Data/chimmey_tops_dem_1m_utm17n.csv')\n",
    "Mst['x'] = Mst['x']-Mst['x'].min()\n",
    "Mst['y'] = Mst['y']-Mst['y'].min()\n",
    "Mst['Elevation'] = Mst['Elevation']-Mst['Elevation'].min()\n",
    "# Converting the Dataframe into a Matrix\n",
    "M=Mst.to_numpy()\n",
    "\n",
    "X = M[:,0]\n",
    "Y = M[:,1]\n",
    "Z = M[:,3]\n",
    "\n",
    "X = np.reshape(X, (1000, 1000))\n",
    "Y = np.reshape(Y, (1000, 1000))\n",
    "Z = np.reshape(Z, (1000, 1000))\n"
   ]
  },
  {
   "cell_type": "markdown",
   "metadata": {},
   "source": [
    "## 1.1 Plotting the Surface"
   ]
  },
  {
   "cell_type": "code",
   "execution_count": null,
   "metadata": {},
   "outputs": [],
   "source": [
    "fig = plt.figure(figsize=(12,10))\n",
    "\n",
    "ax = fig.gca(projection='3d')\n",
    "\n",
    "surf = ax.plot_surface(X, Y, Z, cmap=cm.YlGn,\n",
    "                       linewidth=0, antialiased=False)\n",
    "ax.view_init(45, 200)\n",
    "ax.set_xlabel('x - Longitude',fontsize=14)\n",
    "ax.set_ylabel('y - Latitude',fontsize=14)\n",
    "ax.set_zlabel('z - Elevation',fontsize=14)"
   ]
  },
  {
   "cell_type": "markdown",
   "metadata": {},
   "source": [
    "# 2. Creating the FDS file\n",
    "## 2.1 Defining the Region Where the Simulation Takes Place"
   ]
  },
  {
   "cell_type": "code",
   "execution_count": null,
   "metadata": {},
   "outputs": [],
   "source": [
    "Min_x = 400\n",
    "Max_x = 600\n",
    "Min_y = 0\n",
    "Max_y = 200\n",
    "Mst = Mst[(Mst.x > Min_x-1) & (Mst.x < Max_x) & (Mst.y > Min_y-1) & (Mst.y < Max_y)]\n",
    "Mst_o = Mst.copy()\n"
   ]
  },
  {
   "cell_type": "markdown",
   "metadata": {},
   "source": [
    "# Defining the Resolution of the Meshes in Meters"
   ]
  },
  {
   "cell_type": "code",
   "execution_count": null,
   "metadata": {},
   "outputs": [],
   "source": [
    "R = 1\n",
    "Mst = Mst[(Mst.x%R==0) & (Mst.y%R==0)]"
   ]
  },
  {
   "cell_type": "markdown",
   "metadata": {},
   "source": [
    "# Defining the Resolution of the Obstacles in Meters"
   ]
  },
  {
   "cell_type": "code",
   "execution_count": null,
   "metadata": {},
   "outputs": [],
   "source": [
    "Ro = 1\n",
    "Mst_o = Mst_o[(Mst_o.x%Ro==0) & (Mst_o.y%Ro==0)]"
   ]
  },
  {
   "cell_type": "markdown",
   "metadata": {},
   "source": [
    "# Calculating the Range of the Elevation "
   ]
  },
  {
   "cell_type": "code",
   "execution_count": null,
   "metadata": {},
   "outputs": [],
   "source": [
    "# Minimum and Maximum elevation\n",
    "Min_z = math.floor(Mst['Elevation'].min())\n",
    "Max_z = math.ceil(Mst['Elevation'].max())\n"
   ]
  },
  {
   "cell_type": "markdown",
   "metadata": {},
   "source": [
    "## 2.3 Plotting the Mathematical Domain"
   ]
  },
  {
   "cell_type": "markdown",
   "metadata": {},
   "source": [
    "# 2.4 Writing the FDS File "
   ]
  },
  {
   "cell_type": "code",
   "execution_count": null,
   "metadata": {},
   "outputs": [],
   "source": [
    "# Defining the time variables\n",
    "\n",
    "T_begin  = 0.0\n",
    "T_end    = 60.0\n",
    "DT       = 0.1\n",
    "NFRAMES  = int(2*(T_end-T_begin))\n",
    "#NFRAMES  = 40\n",
    "\n",
    "# Output File\n",
    "PC = 1       # Select to use Predictor-Corrector Strategy\n",
    "Rampa31 = 0  # Turn on/off Ramp value\n",
    "\n",
    "foldername = f\"FDSPROG_{R}_Ro_{Ro}_[{Min_x},{Max_x}]x[{Min_y},{Max_y}]_PC_{PC}_Rampa31_{Rampa31}_T_{T_end}_DT_{DT}\"\n",
    "filename = f\"{foldername}.fds\"\n",
    "logname = f\"{foldername}.log\"\n",
    "\n",
    "if not path.exists(f\"FDSFiles/{foldername}\"):\n",
    "        os.mkdir(f\"FDSFiles/{foldername}\")\n",
    "log_name     = f\"FDSFiles/{foldername}/{logname}\"\n",
    "fds_filename = f\"FDSFiles/{foldername}/{filename}\"\n",
    "fds     = open(fds_filename, 'w')\n",
    "job_log = open(log_name, 'w')\n",
    "\n",
    "############################################################\n",
    "Time = strftime(\"Experiment done: %Y/%m/%d/ at %H:%M:%S\",localtime())\n",
    "job_log.write(f\"{Time}\\n\\n\")\n",
    "\n",
    "job_log.write(f\"Terrain Domain  = [{Min_x}, {Max_x}] x [{Min_y}, {Max_y}]\\n\")\n",
    "job_log.write(f\"Elevation Range = [{Min_z}, {Max_z}]\\n\\n\")\n",
    "\n",
    "job_log.write(f\"Resolution = {R} meters \\n\\n\")"
   ]
  },
  {
   "cell_type": "markdown",
   "metadata": {},
   "source": [
    "### 2.4.1 Defining the Name of the Output Files"
   ]
  },
  {
   "cell_type": "code",
   "execution_count": null,
   "metadata": {},
   "outputs": [],
   "source": [
    "fds.write(f\"&HEAD CHID='Region_1_{R}m', TITLE='Simulation of Chimney Tops fire' /\\n\\n\")"
   ]
  },
  {
   "cell_type": "markdown",
   "metadata": {},
   "source": [
    "### 2.4.2 Defining the Pattern Mesh and Covering the Domain"
   ]
  },
  {
   "cell_type": "code",
   "execution_count": null,
   "metadata": {},
   "outputs": [],
   "source": [
    "Nmx = 2    # Number of meshes in x-direction \n",
    "Nmy = 2     # Number pf meshes in y-direction\n",
    "Nmz = 2     # Nmber of Meshes  in z-direction\n",
    "\n",
    "DX  = (Max_x-Min_x)/Nmx\n",
    "DY  = (Max_y-Min_y)/Nmy\n",
    "DZ  = (Max_z-Min_z)/Nmz\n",
    "\n",
    "job_log.write(f\"Number of Meshes = {Nmx*Nmy*Nmz} \\n\")"
   ]
  },
  {
   "cell_type": "code",
   "execution_count": null,
   "metadata": {},
   "outputs": [],
   "source": [
    "Nx = math.ceil(DX/R)     # Number of cells in x-direction first mesh (Resolution)\n",
    "Ny = math.ceil(DY/R)     # Number of cells in y-direction first mesh (Resolution)\n",
    "Nz = math.ceil(DZ/R)     # Number of cells in z-direction first mesh (Resolution)\n",
    "\n",
    "job_log.write(f\"Number of Cells = {Nx*Ny*Nz*Nmx*Nmy*Nmz} \\n\")\n",
    "job_log.write(f\"Required Memory = {math.ceil(Nx*Ny*Nz*Nmx*Nmy*Nmz/1000000)} GB \\n\\n\")"
   ]
  },
  {
   "cell_type": "markdown",
   "metadata": {},
   "source": [
    "### 2.4.3 Plotting the Submeshes"
   ]
  },
  {
   "cell_type": "code",
   "execution_count": null,
   "metadata": {},
   "outputs": [],
   "source": [
    "fds.write(f\"&MESH IJK={Nx},{Ny},{Nz}, XB={Min_x},{Min_x+DX},{Min_y},{Min_y+DY},{Min_z},{Min_z+DZ}, MULT_ID='mesh' / \\n\")\n",
    "fds.write(f\"&MULT ID='mesh', DX={DX}, DY={DY}, DZ={DZ}, I_LOWER=0, I_UPPER={Nmx-1}, J_LOWER=0, J_UPPER={Nmy-1}, K_UPPER={Nmz-1} /  \\n\\n\")\n"
   ]
  },
  {
   "cell_type": "markdown",
   "metadata": {},
   "source": [
    "### 2.4.4 Time Initialization"
   ]
  },
  {
   "cell_type": "code",
   "execution_count": null,
   "metadata": {},
   "outputs": [],
   "source": [
    "fds.write(\"&MISC TMPA=30., TERRAIN_CASE=.TRUE., TERRAIN_IMAGE='Chimney_tops_aerial.png', VERBOSE=.TRUE., RESTART=.FALSE., PROJECTION=.TRUE.  /\\n\")\n",
    "\n",
    "if PC==0:\n",
    "    #fds.write(f\"&TIME T_END = {T_end}, DT={DT}, LOCK_TIME_STEP=.TRUE. /\\n\\n\")\n",
    "    fds.write(f\"&TIME T_END = {T_end}, LOCK_TIME_STEP=.TRUE. /\\n\\n\")\n",
    "else:\n",
    "    #fds.write(f\"&TIME T_END = {T_end}, DT={DT} / \\n\\n\")\n",
    "    fds.write(f\"&TIME T_BEGIN = {T_begin}, T_END = {T_end} / \\n\\n\")\n",
    "\n",
    "fds.write(f\"&DUMP NFRAMES={NFRAMES}, DT_PART=100., CFL_FILE=.TRUE., DT_RESTART=60., DT_PL3D=60. /  \\n\")\n",
    "\n",
    "job_log.write(f\"Simulation Time     = {T_end} \\n\")\n",
    "job_log.write(f\"Time Step Size      = {DT} \\n\")\n",
    "job_log.write(f\"Number of Frames    = {NFRAMES} \\n\\n\")\n",
    "\n",
    "job_log.write(f\"Predictor Corrector Strategy = {PC} \\n\\n\")"
   ]
  },
  {
   "cell_type": "markdown",
   "metadata": {},
   "source": [
    "### 2.4.5 Fire Variables Initialization"
   ]
  },
  {
   "cell_type": "code",
   "execution_count": null,
   "metadata": {},
   "outputs": [],
   "source": [
    "fds.write(\"&WIND DIRECTION=135., SPEED=5., SPONGE_CELLS=0, STRATIFICATION=.FALSE. /\\n\\n\")\n",
    "\n",
    "fds.write(f\"&SURF ID='FIRE', HRRPUA=805., COLOR='ORANGE', RAMP_Q='fire' /\\n\")\n",
    "fds.write(f\"&RAMP ID='fire', T= {int(T_begin)}., F=0. /\\n\")\n",
    "fds.write(f\"&RAMP ID='fire', T= {int(T_begin+1)}., F=1. /\\n\")\n",
    "fds.write(f\"&RAMP ID='fire', T= {int(T_begin+30)}., F=1. /\\n\")\n",
    "fds.write(f\"&RAMP ID='fire', T= {int(T_begin+31)}., F={Rampa31}. /\\n\\n\")\n",
    "\n",
    "job_log.write(f\"&RAMP ID='fire', T= 0., F=0. /\\n\")\n",
    "job_log.write(f\"&RAMP ID='fire', T= 1., F=1. /\\n\")\n",
    "job_log.write(f\"&RAMP ID='fire', T= 30., F=1. /\\n\")\n",
    "job_log.write(f\"&RAMP ID='fire', T= 31., F={Rampa31}. /\\n\\n\")\n",
    "\n",
    "\n",
    "fds.write(\"&SLCF PBZ=1250., AGL_SLICE=1., QUANTITY='VELOCITY', VECTOR=.TRUE. /\\n\\n\")\n",
    "\n",
    "fds.write(\"&VENT MB='XMIN', SURF_ID='OPEN' /  \\n\")\n",
    "fds.write(\"&VENT MB='XMAX', SURF_ID='OPEN' /  \\n\")\n",
    "fds.write(\"&VENT MB='YMIN', SURF_ID='OPEN' /  \\n\")\n",
    "fds.write(\"&VENT MB='YMAX', SURF_ID='OPEN' /  \\n\")\n",
    "fds.write(\"&VENT MB='ZMAX', SURF_ID='OPEN' /  \\n\\n\")\n",
    "fds.write(\"&REAC FUEL='CELLULOSE', C=6, H=10, O=5, SOOT_YIELD=0.005 / \\n\\n\")\n",
    "fds.write(\"&SPEC ID='WATER VAPOR' / \\n\\n\")\n",
    "\n",
    "fds.write(\"&SURF ID                        = 'grass' \\n\")\n",
    "fds.write(\"      MATL_ID(1,1:2)            = 'GENERIC VEGETATION','MOISTURE'\\n\")\n",
    "fds.write(\"      MATL_MASS_FRACTION(1,1:2) = 0.937,0.063\\n\")\n",
    "fds.write(\"      THICKNESS                 = 0.0002\\n\")\n",
    "fds.write(\"      LENGTH                    = 0.21\\n\")\n",
    "fds.write(\"      HEAT_TRANSFER_COEFFICIENT = 30.\\n\")\n",
    "fds.write(\"      GEOMETRY                  = 'CYLINDRICAL' /\\n\\n\")\n",
    "\n",
    "fds.write(\"&SURF ID                        = 'needles' \\n\")\n",
    "fds.write(\"      MATL_ID(1,1:2)            = 'GENERIC VEGETATION','MOISTURE'\\n\")\n",
    "fds.write(\"      MATL_MASS_FRACTION(1,1:2) = 0.95,0.05\\n\")\n",
    "fds.write(\"      THICKNESS                 = 0.02\\n\")\n",
    "fds.write(\"      LENGTH                    = 0.21\\n\")\n",
    "fds.write(\"      HEAT_TRANSFER_COEFFICIENT = 30.\\n\")\n",
    "fds.write(\"      GEOMETRY                  = 'CYLINDRICAL' /\\n\\n\")\n",
    "\n",
    "fds.write(\"&MATL ID = 'GENERIC VEGETATION' \\n\")\n",
    "fds.write(\"      DENSITY = 500.\\n\")\n",
    "fds.write(\"      CONDUCTIVITY = 0.1\\n\")\n",
    "fds.write(\"      SPECIFIC_HEAT= 1.5\\n\")\n",
    "fds.write(\"      REFERENCE_TEMPERATURE = 200\\n\")\n",
    "fds.write(\"      PYROLYSIS_RANGE = 30.\\n\")\n",
    "fds.write(\"      NU_MATL = 0.2\\n\")\n",
    "fds.write(\"      NU_SPEC = 0.8 \\n\")\n",
    "fds.write(\"      SPEC_ID = 'CELLULOSE'\\n\")\n",
    "fds.write(\"      HEAT_OF_COMBUSTION = 15600.\\n\")\n",
    "fds.write(\"      HEAT_OF_REACTION = 418.\\n\")\n",
    "fds.write(\"      MATL_ID  = 'CHAR' /\\n\\n\")\n",
    "\n",
    "fds.write(\"&MATL ID = 'MOISTURE' \\n\")\n",
    "fds.write(\"      DENSITY = 1000.\\n\")\n",
    "fds.write(\"      CONDUCTIVITY = 0.1\\n\")\n",
    "fds.write(\"      SPECIFIC_HEAT= 4.184\\n\")\n",
    "fds.write(\"      REFERENCE_TEMPERATURE = 100.\\n\")\n",
    "fds.write(\"      PYROLYSIS_RANGE = 10.\\n\")\n",
    "fds.write(\"      NU_SPEC = 1.0 \\n\")\n",
    "fds.write(\"      SPEC_ID = 'WATER VAPOR'\\n\")\n",
    "fds.write(\"      HEAT_OF_REACTION = 2500./\\n\\n\")\n",
    "\n",
    "fds.write(\"&MATL ID = 'CHAR'\\n\")\n",
    "fds.write(\"      DENSITY  = 100.\\n\")\n",
    "fds.write(\"      CONDUCTIVITY = 0.1 \\n\")\n",
    "fds.write(\"      SPECIFIC_HEAT = 1.0 / \\n\\n\")\n",
    "\n",
    "fds.write(\"&MATL ID='DIRT'\\n\")\n",
    "fds.write(\"      CONDUCTIVITY = 0.25\\n\")\n",
    "fds.write(\"      SPECIFIC_HEAT = 2.\\n\")\n",
    "fds.write(\"     DENSITY = 1300. /\\n\\n\")\n",
    "\n",
    "fds.write(\"&PART ID='foliage', DRAG_COEFFICIENT=1.0, SURF_ID='needles', SAMPLING_FACTOR=5,\\n\")\n",
    "fds.write(\"      QUANTITIES='PARTICLE TEMPERATURE','PARTICLE MASS','PARTICLE DIAMETER', STATIC=.TRUE., COLOR='GREEN' / \\n\\n\")\n",
    "\n",
    "fds.write(\"&PART ID='grass', DRAG_COEFFICIENT=1.0, SURF_ID='grass', SAMPLING_FACTOR=958,\\n\")\n",
    "fds.write(\"      QUANTITIES='PARTICLE TEMPERATURE','PARTICLE MASS','PARTICLE DIAMETER', STATIC=.TRUE., COLOR='BROWN' /\\n\\n\")\n",
    "\n",
    "fds.write(\"&SURF ID = 'surf1', RGB = 122,117,48, MATL_ID='DIRT', THICKNESS=0.2, PART_ID='grass', PARTICLE_SURFACE_DENSITY=1.0 / \\n\")\n",
    "fds.write(\"&SURF ID = 'surf2', RGB = 0,100,0, MATL_ID='DIRT', THICKNESS=0.2 / \\n\\n\")\n",
    "\n"
   ]
  },
  {
   "cell_type": "markdown",
   "metadata": {},
   "source": [
    "### 2.4.6 Location of the Fire"
   ]
  },
  {
   "cell_type": "code",
   "execution_count": null,
   "metadata": {},
   "outputs": [],
   "source": [
    "rows = Mst_o.shape[0]\n",
    "# Position of the ignition point\n",
    "Location = [500,100]\n",
    "# Locating that position in the Moisture File\n",
    "Indice = Mst_o[(Mst_o['x'] < Location[0]+5) & (Mst_o['x'] > Location[0]-5) & (Mst_o['y'] < Location[1]+5) & (Mst_o['y'] > Location[1]-5)].index\n",
    "Indice2 = [i for i in Mst_o.index if i not in Indice.values]\n",
    "\n",
    "job_log.write(f\"Coordinates of the Fire   = {Location}\")"
   ]
  },
  {
   "cell_type": "markdown",
   "metadata": {},
   "source": [
    "## 2.4.7 Obstruction "
   ]
  },
  {
   "cell_type": "code",
   "execution_count": null,
   "metadata": {
    "scrolled": true
   },
   "outputs": [],
   "source": [
    "# Writing the location of the fire\n",
    "for ind in Indice.values:\n",
    "    #min_obstacle = max([Min_z0, Mst_o['Elevation'][ind]-Ro])\n",
    "    min_obstacle = Min_z\n",
    "    fds.write(f\"&OBST XB={Mst_o['x'][ind]},{Mst_o['x'][ind]+Ro},{Mst_o['y'][ind]},{Mst_o['y'][ind]+Ro},{min_obstacle},{Mst_o['Elevation'][ind]} SURF_IDS='FIRE','surf1' /\\n\")\n",
    "\n",
    "# Writing the obstacles  [x for x in xrange(100) if x != 50]\n",
    "\n",
    "for i in Indice2: \n",
    "    #min_obstacle = max([Min_z0, Mst_o['Elevation'][i]-Ro])\n",
    "    min_obstacle = Min_z\n",
    "    fds.write(f\"&OBST XB={Mst_o['x'][i]},{Mst_o['x'][i]+Ro},{Mst_o['y'][i]},{Mst_o['y'][i]+Ro},{min_obstacle},{Mst_o['Elevation'][i]} SURF_ID='surf1'/\\n\")\n",
    "    \n",
    "fds.write(\"\\n&TAIL /\")\n"
   ]
  },
  {
   "cell_type": "markdown",
   "metadata": {},
   "source": [
    "# 2.5 Writing the bsub File"
   ]
  },
  {
   "cell_type": "code",
   "execution_count": null,
   "metadata": {},
   "outputs": [],
   "source": [
    "bsub_name     = f\"FDSFiles/{foldername}/fds_testing.bsub\"\n",
    "bsub          = open(bsub_name, 'w')\n",
    "\n",
    "bsub.write(\"#!/bin/bash\\n\")\n",
    "bsub.write(\"#BSUB -n 1\\n\")\n",
    "bsub.write(\"#BSUB -J mesh_\\n\")\n",
    "bsub.write(\"###BSUB -x\\n\")\n",
    "bsub.write('###BSUB -R \"span[hosts=1]\"\\n')\n",
    "bsub.write(\"#BSUB -o /home/leobardovalera/experiments/mesh_%J.out\\n\")\n",
    "bsub.write(\"#BSUB -e /home/leobardovalera/experiments/mesh_%J.err\\n\")\n",
    "bsub.write(\"##BSUB -W 1:00\\n\\n\")\n",
    "\n",
    "bsub.write(\"export OMP_NUM_THREADS=4\\n\")\n",
    "bsub.write(f\"mpiexec -n {Nmx*Nmy*Nmz} ~/fds/Build/mpi_gnu_linux_64/fds_mpi_gnu_linux_64 {filename}\")\n"
   ]
  },
  {
   "cell_type": "markdown",
   "metadata": {},
   "source": [
    "# 3 Closing All the Files"
   ]
  },
  {
   "cell_type": "code",
   "execution_count": null,
   "metadata": {},
   "outputs": [],
   "source": [
    "fds.close()\n",
    "job_log.close()\n",
    "bsub.close()"
   ]
  },
  {
   "cell_type": "code",
   "execution_count": null,
   "metadata": {},
   "outputs": [],
   "source": [
    "Min_z"
   ]
  },
  {
   "cell_type": "code",
   "execution_count": null,
   "metadata": {},
   "outputs": [],
   "source": []
  }
 ],
 "metadata": {
  "kernelspec": {
   "display_name": "Python 3",
   "language": "python",
   "name": "python3"
  },
  "language_info": {
   "codemirror_mode": {
    "name": "ipython",
    "version": 3
   },
   "file_extension": ".py",
   "mimetype": "text/x-python",
   "name": "python",
   "nbconvert_exporter": "python",
   "pygments_lexer": "ipython3",
   "version": "3.6.4"
  }
 },
 "nbformat": 4,
 "nbformat_minor": 4
}
