{
 "cells": [
  {
   "cell_type": "code",
   "execution_count": null,
   "metadata": {},
   "outputs": [],
   "source": [
    "import pandas as pd\n",
    "import numpy as np\n",
    "import math"
   ]
  },
  {
   "cell_type": "markdown",
   "metadata": {},
   "source": [
    "# 1. Reading the CSV file"
   ]
  },
  {
   "cell_type": "code",
   "execution_count": null,
   "metadata": {},
   "outputs": [],
   "source": [
    "Moisture = pd.read_csv('MoistureAndElevationUTMTraslated201610.csv')"
   ]
  },
  {
   "cell_type": "markdown",
   "metadata": {},
   "source": [
    "# 2. Creating the FDS file\n",
    "## 2.1 Initialization part"
   ]
  },
  {
   "cell_type": "code",
   "execution_count": null,
   "metadata": {},
   "outputs": [],
   "source": [
    "# Minimum and Maximum elevation\n",
    "minimo = math.floor(Moisture['Elevation'].min())\n",
    "maximo = math.ceil(Moisture['Elevation'].max())\n"
   ]
  },
  {
   "cell_type": "code",
   "execution_count": null,
   "metadata": {},
   "outputs": [],
   "source": [
    "filename = 'FDSPROG.fds'\n",
    "fds = open(filename, 'w')\n",
    "fds.write(\"&HEAD CHID='Chimney_tops_1m', TITLE='Simulation of Chimney Tops fire' /\\n\\n\")\n",
    "\n",
    "fds.write(\"&MESH IJK=100,100,100, XB=0.0,100.0,0.0,100.0,300.0,400.0, MULT_ID='mesh' / \\n\")\n",
    "fds.write(\"&MULT ID='mesh', DX=100., DY=100., DZ=100., I_LOWER=4, I_UPPER=4, J_LOWER=4, J_UPPER=4, K_UPPER=4 /  \\n\\n\")\n",
    "\n",
    "fds.write(\"&MISC TMPA=30., TERRAIN_CASE=.TRUE., TERRAIN_IMAGE='Gatlinburg_1000m.png', VERBOSE=.TRUE. / \\n\\n\")\n",
    "\n",
    "fds.write(\"&TIME T_END = 2.0, DT=1.0 /\\n\\n\")\n",
    "\n",
    "fds.write(\"&DUMP NFRAMES=2, DT_PART=100., CFL_FILE=.TRUE. /  \\n\\n\")\n",
    "\n",
    "fds.write(\"&WIND DIRECTION=135., SPEED=5., SPONGE_CELLS=0, STRATIFICATION=.FALSE. /\\n\\n\")\n",
    "\n",
    "fds.write(\"&SURF ID='FIRE', HRRPUA=1500., COLOR='ORANGE', RAMP_Q='fire' /\\n\")\n",
    "fds.write(\"&RAMP ID='fire', T= 0., F=0. /\\n\")\n",
    "fds.write(\"&RAMP ID='fire', T= 1., F=1. /\\n\")\n",
    "fds.write(\"&RAMP ID='fire', T= 30., F=1. /\\n\")\n",
    "fds.write(\"&RAMP ID='fire', T= 31., F=1. /\\n\\n\")\n",
    "\n",
    "fds.write(\"&SLCF PBZ=395., AGL_SLICE=1., QUANTITY='VELOCITY', VECTOR=.TRUE. /\\n\\n\")\n",
    "\n",
    "fds.write(\"&VENT MB='XMIN', SURF_ID='OPEN' /  \\n\")\n",
    "fds.write(\"&VENT MB='XMAX', SURF_ID='OPEN' /  \\n\")\n",
    "fds.write(\"&VENT MB='YMIN', SURF_ID='OPEN' /  \\n\")\n",
    "fds.write(\"&VENT MB='YMAX', SURF_ID='OPEN' /  \\n\")\n",
    "fds.write(\"&VENT MB='ZMAX', SURF_ID='OPEN' /  \\n\\n\")\n",
    "fds.write(\"&REAC FUEL='CELLULOSE', C=6, H=10, O=5, SOOT_YIELD=0.005 / \\n\\n\")\n",
    "fds.write(\"&SPEC ID='WATER VAPOR' / \\n\\n\")\n",
    "\n",
    "fds.write(\"&SURF ID                        = 'grass' \\n\")\n",
    "fds.write(\"      MATL_ID(1,1:2)            = 'GENERIC VEGETATION','MOISTURE'\\n\")\n",
    "fds.write(\"      MATL_MASS_FRACTION(1,1:2) = 0.937,0.063\\n\")\n",
    "fds.write(\"      THICKNESS                 = 0.0002\\n\")\n",
    "fds.write(\"      LENGTH                    = 0.21\\n\")\n",
    "fds.write(\"      HEAT_TRANSFER_COEFFICIENT = 30.\\n\")\n",
    "fds.write(\"      GEOMETRY                  = 'CYLINDRICAL' /\\n\\n\")\n",
    "\n",
    "fds.write(\"&SURF ID                        = 'needles' \\n\")\n",
    "fds.write(\"      MATL_ID(1,1:2)            = 'GENERIC VEGETATION','MOISTURE'\\n\")\n",
    "fds.write(\"      MATL_MASS_FRACTION(1,1:2) = 0.95,0.05\\n\")\n",
    "fds.write(\"      THICKNESS                 = 0.02\\n\")\n",
    "fds.write(\"      LENGTH                    = 0.21\\n\")\n",
    "fds.write(\"      HEAT_TRANSFER_COEFFICIENT = 30.\\n\")\n",
    "fds.write(\"      GEOMETRY                  = 'CYLINDRICAL' /\\n\\n\")\n",
    "\n",
    "fds.write(\"&MATL ID = 'GENERIC VEGETATION' \\n\")\n",
    "fds.write(\"      DENSITY = 500.\\n\")\n",
    "fds.write(\"      CONDUCTIVITY = 0.1\\n\")\n",
    "fds.write(\"      SPECIFIC_HEAT= 1.5\\n\")\n",
    "fds.write(\"      REFERENCE_TEMPERATURE = 200\\n\")\n",
    "fds.write(\"      PYROLYSIS_RANGE = 30.\\n\")\n",
    "fds.write(\"      NU_MATL = 0.2\\n\")\n",
    "fds.write(\"      NU_SPEC = 0.8 \\n\")\n",
    "fds.write(\"      SPEC_ID = 'CELLULOSE'\\n\")\n",
    "fds.write(\"      HEAT_OF_COMBUSTION = 15600.\\n\")\n",
    "fds.write(\"      HEAT_OF_REACTION = 418.\\n\")\n",
    "fds.write(\"      MATL_ID  = 'CHAR' /\\n\\n\")\n",
    "\n",
    "fds.write(\"&MATL ID = 'MOISTURE' \\n\")\n",
    "fds.write(\"      DENSITY = 1000.\\n\")\n",
    "fds.write(\"      CONDUCTIVITY = 0.1\\n\")\n",
    "fds.write(\"      SPECIFIC_HEAT= 4.184\\n\")\n",
    "fds.write(\"      REFERENCE_TEMPERATURE = 100.\\n\")\n",
    "fds.write(\"      PYROLYSIS_RANGE = 10.\\n\")\n",
    "fds.write(\"      NU_SPEC = 1.0 \\n\")\n",
    "fds.write(\"      SPEC_ID = 'WATER VAPOR'\\n\")\n",
    "fds.write(\"      HEAT_OF_REACTION = 2500./\\n\\n\")\n",
    "\n",
    "fds.write(\"&MATL ID = 'CHAR'\\n\")\n",
    "fds.write(\"      DENSITY  = 100.\\n\")\n",
    "fds.write(\"      CONDUCTIVITY = 0.1 \\n\")\n",
    "fds.write(\"      SPECIFIC_HEAT = 1.0 / \\n\\n\")\n",
    "\n",
    "fds.write(\"&MATL ID='DIRT'\\n\")\n",
    "fds.write(\"      CONDUCTIVITY = 0.25\\n\")\n",
    "fds.write(\"      SPECIFIC_HEAT = 2.\\n\")\n",
    "fds.write(\"     DENSITY = 1300. /\\n\\n\")\n",
    "\n",
    "fds.write(\"&PART ID='foliage', DRAG_COEFFICIENT=1.0, SURF_ID='needles', SAMPLING_FACTOR=5,\\n\")\n",
    "fds.write(\"      QUANTITIES='PARTICLE TEMPERATURE','PARTICLE MASS','PARTICLE DIAMETER', STATIC=.TRUE., COLOR='GREEN' / \\n\\n\")\n",
    "\n",
    "fds.write(\"&PART ID='grass', DRAG_COEFFICIENT=1.0, SURF_ID='grass', SAMPLING_FACTOR=958,\\n\")\n",
    "fds.write(\"      QUANTITIES='PARTICLE TEMPERATURE','PARTICLE MASS','PARTICLE DIAMETER', STATIC=.TRUE., COLOR='BROWN' /\\n\\n\")\n",
    "\n",
    "fds.write(\"&SURF ID = 'surf1', RGB = 122,117,48, MATL_ID='DIRT', THICKNESS=0.2, PART_ID='grass', PARTICLE_SURFACE_DENSITY=1.0 / \\n\")\n",
    "fds.write(\"&SURF ID = 'surf2', RGB = 122,117,48, MATL_ID='DIRT', THICKNESS=0.2 / \\n\\n\")\n",
    "\n"
   ]
  },
  {
   "cell_type": "markdown",
   "metadata": {},
   "source": [
    "# 2.2 Location of the Fire"
   ]
  },
  {
   "cell_type": "code",
   "execution_count": null,
   "metadata": {},
   "outputs": [],
   "source": [
    "rows = Moisture.shape[0]\n",
    "# Position of the ignition point\n",
    "Location = [499,499]\n",
    "# Locating that position in the Moisture File\n",
    "Indice= Moisture[(Moisture['x'] == Location[0]) & (Moisture['y'] == Location[1])].index\n",
    "Indice=Indice[0]\n",
    "Index1 = [i for i in range(Indice)]\n",
    "Index2 = [i for i in range(Indice+1,rows)]\n",
    "Index3 = Index1+Index2"
   ]
  },
  {
   "cell_type": "markdown",
   "metadata": {},
   "source": [
    "## 2.2 Obstruction "
   ]
  },
  {
   "cell_type": "code",
   "execution_count": null,
   "metadata": {},
   "outputs": [],
   "source": [
    "# Writing the location of the fire\n",
    "\n",
    "fds.write(\"&OBST XB=\" + str(Moisture['x'][Indice]) + \",\" + str(Moisture['x'][Indice]+1) + \",\"\\\n",
    "              + str(Moisture['y'][Indice]) + \",\" + str(Moisture['y'][Indice]+1) + \",\"\\\n",
    "              \"0.0,\" +  str(Moisture['Elevation'][Indice])\\\n",
    "              + \" SURF_IDS='FIRE','surf1'/\\n\")\n",
    "\n",
    "# Writing the obstacles \n",
    "\n",
    "for i in Index3:\n",
    "    fds.write(\"&OBST XB=\" + str(Moisture['x'][i]) + \",\" + str(Moisture['x'][i]+1) + \",\"\\\n",
    "              + str(Moisture['y'][i]) + \",\" + str(Moisture['y'][i]+1) + \",\"\\\n",
    "              \"0.0,\" +  str(Moisture['Elevation'][i])\\\n",
    "              + \" SURF_ID='surf1'/\\n\")\n",
    "fds.write(\"\\n&TAIL /\")\n"
   ]
  },
  {
   "cell_type": "code",
   "execution_count": null,
   "metadata": {},
   "outputs": [],
   "source": [
    "fds.close()"
   ]
  },
  {
   "cell_type": "code",
   "execution_count": null,
   "metadata": {},
   "outputs": [],
   "source": []
  }
 ],
 "metadata": {
  "kernelspec": {
   "display_name": "Python 3",
   "language": "python",
   "name": "python3"
  },
  "language_info": {
   "codemirror_mode": {
    "name": "ipython",
    "version": 3
   },
   "file_extension": ".py",
   "mimetype": "text/x-python",
   "name": "python",
   "nbconvert_exporter": "python",
   "pygments_lexer": "ipython3",
   "version": "3.7.7"
  }
 },
 "nbformat": 4,
 "nbformat_minor": 4
}
