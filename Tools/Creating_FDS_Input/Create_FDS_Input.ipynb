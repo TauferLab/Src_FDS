{
 "cells": [
  {
   "cell_type": "code",
   "execution_count": 1,
   "metadata": {},
   "outputs": [],
   "source": [
    "# Many of the functions in utils.py use variables defined within FDS.ipynb,\n",
    "#  so those function can only be used from within that notebook by running the following:\n",
    "#  %run -i code/utils.py\n",
    "\n",
    "import pandas as pd\n",
    "import numpy as np\n",
    "import math\n",
    "import numpy as np\n",
    "import matplotlib\n",
    "import matplotlib.pyplot as plt\n",
    "import time\n",
    "import os.path"
   ]
  },
  {
   "cell_type": "code",
   "execution_count": 2,
   "metadata": {},
   "outputs": [],
   "source": [
    "import fileinput\n",
    "import sys\n",
    "\n",
    "def replaceAll(file,searchExp):\n",
    "    for line in fileinput.input(file, inplace=1):\n",
    "        if searchExp in line:\n",
    "            line = line.replace(\"SURF_ID='surf1'\",\"SURF_IDS='FIRE','surf1','surf1'\")\n",
    "        sys.stdout.write(line)"
   ]
  },
  {
   "cell_type": "code",
   "execution_count": 3,
   "metadata": {},
   "outputs": [],
   "source": [
    "HRR = pd.read_csv('Proyeccion.csv') "
   ]
  },
  {
   "cell_type": "code",
   "execution_count": 4,
   "metadata": {},
   "outputs": [],
   "source": [
    "for ind in HRR.index:\n",
    "    coordinate = \"XB={:.6f}\".format(HRR['x'].iloc[ind]-2)\n",
    "    coordinate = coordinate+\",{:.6f}\".format(HRR['x'].iloc[ind])\n",
    "    coordinate = coordinate+\",{:.6f}\".format(HRR['y'].iloc[ind]-2)\n",
    "    coordinate = coordinate+\",{:.6f}\".format(HRR['y'].iloc[ind])\n",
    "    replaceAll(\"Template.fds\",coordinate)\n",
    "    "
   ]
  },
  {
   "cell_type": "code",
   "execution_count": null,
   "metadata": {},
   "outputs": [],
   "source": []
  },
  {
   "cell_type": "code",
   "execution_count": null,
   "metadata": {},
   "outputs": [],
   "source": []
  }
 ],
 "metadata": {
  "kernelspec": {
   "display_name": "Python 3",
   "language": "python",
   "name": "python3"
  },
  "language_info": {
   "codemirror_mode": {
    "name": "ipython",
    "version": 3
   },
   "file_extension": ".py",
   "mimetype": "text/x-python",
   "name": "python",
   "nbconvert_exporter": "python",
   "pygments_lexer": "ipython3",
   "version": "3.8.5"
  }
 },
 "nbformat": 4,
 "nbformat_minor": 4
}
