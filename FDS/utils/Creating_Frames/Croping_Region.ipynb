{
 "cells": [
  {
   "cell_type": "code",
   "execution_count": null,
   "metadata": {},
   "outputs": [],
   "source": [
    "%%javascript\n",
    "IPython.OutputArea.prototype._should_scroll = function(lines) {\n",
    "    return false;\n",
    "}"
   ]
  },
  {
   "cell_type": "code",
   "execution_count": null,
   "metadata": {},
   "outputs": [],
   "source": [
    "# Many of the functions in utils.py use variables defined within FDS.ipynb,\n",
    "#  so those function can only be used from within that notebook by running the following:\n",
    "#  %run -i code/utils.py\n",
    "\n",
    "import pandas as pd\n",
    "import numpy as np\n",
    "import math\n",
    "import numpy as np\n",
    "import matplotlib\n",
    "import matplotlib.pyplot as plt\n",
    "import time\n",
    "import os.path\n",
    "\n",
    "from PIL import Image, ImageFont, ImageDraw\n",
    "from mpl_toolkits import mplot3d\n",
    "from matplotlib import cm\n",
    "from mpl_toolkits.mplot3d.art3d import Poly3DCollection\n",
    "from os import path"
   ]
  },
  {
   "cell_type": "markdown",
   "metadata": {},
   "source": [
    "# Funciones"
   ]
  },
  {
   "cell_type": "code",
   "execution_count": null,
   "metadata": {},
   "outputs": [],
   "source": [
    "def draw_rectangle(image_in,xlb,xub,ylb,yub,image_out,color):\n",
    "    # Drawing a rectangle in a picture\n",
    "    dpi = 80\n",
    "    img = matplotlib.image.imread(image_in)\n",
    "    height, width, nbands = img.shape\n",
    "    \n",
    "    # What size does the figure need to be in inches to fit the image?\n",
    "    figsize = width / float(dpi), height / float(dpi)\n",
    "    \n",
    "    figure = plt.figure(figsize=figsize)\n",
    "    ax = figure.add_axes([0, 0, 1, 1])\n",
    "    # Hide spines, ticks, etc.\n",
    "    ax.axis('off')\n",
    "    rect = matplotlib.patches.Rectangle((xlb,height-yub),xub-xlb,yub-ylb, edgecolor=color, facecolor=\"none\",linewidth=2.5)   \n",
    "    ax.imshow(img)\n",
    "    ax.add_patch(rect)\n",
    "    figure.savefig(image_out,dpi=dpi,transparent=True)\n",
    "    plt.cla()\n",
    "    plt.close()\n",
    "    return 0\n",
    "\n",
    "def crop_rectangle(image_in,xlb,xub,ylb,yub,image_out):\n",
    "    # Cropping a rectangle from a picture\n",
    "    im  = Image.open(image_in)\n",
    "    box = (xlb,im.size[1]-yub,xub,im.size[1]-ylb)\n",
    "    im.crop(box).save(image_out)\n",
    "\n",
    "def change_color(image_in,source_color_rgb,destination_color_rgb,image_out):\n",
    "     \n",
    "    im = Image.open(image_in)\n",
    "    im = im.convert('RGBA')\n",
    "\n",
    "    data = np.array(im)   # \"data\" is a height x width x 4 numpy array\n",
    "    red, green, blue, alpha = data.T # Temporarily unpack the bands for readability\n",
    "\n",
    "    # Replace white with white... (leaves alpha values alone...)\n",
    "    obs_areas = (red == source_color_rgb[0])  & (green == source_color_rgb[1]) & (blue == source_color_rgb[2])\n",
    "    data[..., :-1][obs_areas.T] = (destination_color_rgb[0], destination_color_rgb[1], destination_color_rgb[2]) # Transpose back needed\n",
    "\n",
    "    im2 = Image.fromarray(data)\n",
    "    im2.save(image_out)\n",
    "    \n",
    "def draw_vector(image_in,X1,X2,image_out):\n",
    "     \n",
    "    im = Image.open(image_in)\n",
    "    image_editable = ImageDraw.Draw(im)\n",
    "    image_editable.line((X1[0],im.size[1] - X1[1], X2[0], im.size[1] - X2[1]), fill=(0,0,255,255), width=3)\n",
    "   \n",
    "    im.save(image_out)\n",
    "\n",
    "def spread(A,B,C):\n",
    "    # ta: time when the fire reachs the point A\n",
    "    # tb: time when the fire reachs the point B\n",
    "    # tc: time when the fire reachs the point C\n",
    "    \n",
    "    # A: coordinates of the point A\n",
    "    # B: coordinates of the point B\n",
    "    # C: coordinates of the point C\n",
    "    \n",
    "    # Calculating the Angle in A\n",
    "    ## Vectorizing the points\n",
    "    vA = np.array(A)\n",
    "    vB = np.array(B)\n",
    "    vC = np.array(C)\n",
    "    \n",
    "    vAB = vB-vA\n",
    "    vAC = vC-vA\n",
    "    \n",
    "    norm_AB = np.linalg.norm(vAB)\n",
    "    norm_AC = np.linalg.norm(vAC)\n",
    "    unit_vAB = vAB / norm_AB\n",
    "    unit_vAC = vAC / norm_AC\n",
    "    \n",
    "    dot_product = np.dot(unit_vAB, unit_vAC)\n",
    "    angleA = np.arccos(dot_product)\n",
    "    theta_d = angleA*(180/math.pi) \n",
    "    \n",
    "    return theta_d\n",
    "\n",
    "def draw_arc(image_in,C,r,angle_initial,angle_final,image_out):\n",
    "     \n",
    "    im = Image.open(image_in)\n",
    "    image_editable = ImageDraw.Draw(im)\n",
    "    image_editable.arc([(C[0]-r,im.size[1]-(C[1]+r)),(C[0]+r,im.size[1]-(C[1]-r))],angle_initial,angle_final,fill=\"black\")\n",
    "   \n",
    "    im.save(image_out)"
   ]
  },
  {
   "cell_type": "markdown",
   "metadata": {},
   "source": [
    "# Selecting the new region"
   ]
  },
  {
   "cell_type": "code",
   "execution_count": null,
   "metadata": {},
   "outputs": [],
   "source": [
    "camino = '/mnt/d/Dropbox/0Documents/Dr_Taufer_Lab/experiments/Article_experiments_2/frames'"
   ]
  },
  {
   "cell_type": "markdown",
   "metadata": {},
   "source": [
    "xlb      =  480\n",
    "xub      =  1200\n",
    "ylb      =  40    \n",
    "yub      =  980\n",
    "\n",
    "draw_rectangle(f'{camino}/Frames_Nist/Gatlinburg_2m_terrain_trees_0002.png',xlb,xub,ylb,yub,f'{camino}/Frames_Cuted/test.png',[255/255,153/255,5/255])"
   ]
  },
  {
   "cell_type": "code",
   "execution_count": null,
   "metadata": {},
   "outputs": [],
   "source": [
    "xlb = 246\n",
    "xub = 1146\n",
    "ylb = 20 \n",
    "yub = 920\n",
    "\n",
    "X1 = [430, 255]\n",
    "X2 = [530, 255]\n",
    "X3 = [48, 643]\n",
    "\n",
    "Theta = spread(X1,X2,X3)\n",
    "\n",
    "for i in range(182):\n",
    "    crop_rectangle(f'{camino}/Region1/Region1_'+f'{i}'.zfill(4)+'.png',xlb,xub,ylb,yub,f'{camino}/Region1_Cuted/Region1_'+f'{i}'.zfill(4)+'.png')\n",
    "    change_color(f'{camino}/Region1_Cuted/Region1_'+f'{i}'.zfill(4)+'.png',[98,94,38],[255,255,255],f'{camino}/Region1_Cuted/Region1_'+f'{i}'.zfill(4)+'.png')\n",
    "    \n",
    "    draw_vector(f'{camino}/Region1_Cuted/Region1_'+f'{i}'.zfill(4)+'.png',X1,X2,f'{camino}/Region1_Cuted/Region1_'+f'{i}'.zfill(4)+'.png')\n",
    "    draw_vector(f'{camino}/Region1_Cuted/Region1_'+f'{i}'.zfill(4)+'.png',X1,X3,f'{camino}/Region1_Cuted/Region1_'+f'{i}'.zfill(4)+'.png')\n",
    "    \n",
    "    for r in range(10,600,10):\n",
    "        draw_arc(f'{camino}/Region1_Cuted/Region1_'+f'{i}'.zfill(4)+'.png',X1,r,(360-Theta)-(160*360/(4*math.pi*r)),(360-Theta)+(160*360/(4*math.pi*r)),f'{camino}/Region1_Cuted/Region1_'+f'{i}'.zfill(4)+'.png')"
   ]
  },
  {
   "cell_type": "code",
   "execution_count": null,
   "metadata": {},
   "outputs": [],
   "source": [
    "Theta = spread(X1,X2,X3)\n",
    "Theta"
   ]
  },
  {
   "cell_type": "code",
   "execution_count": null,
   "metadata": {},
   "outputs": [],
   "source": []
  }
 ],
 "metadata": {
  "kernelspec": {
   "display_name": "Python 3",
   "language": "python",
   "name": "python3"
  },
  "language_info": {
   "codemirror_mode": {
    "name": "ipython",
    "version": 3
   },
   "file_extension": ".py",
   "mimetype": "text/x-python",
   "name": "python",
   "nbconvert_exporter": "python",
   "pygments_lexer": "ipython3",
   "version": "3.8.5"
  }
 },
 "nbformat": 4,
 "nbformat_minor": 4
}
