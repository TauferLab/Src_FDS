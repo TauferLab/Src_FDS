{
 "cells": [
  {
   "cell_type": "code",
   "execution_count": null,
   "metadata": {},
   "outputs": [],
   "source": [
    "%%javascript\n",
    "IPython.OutputArea.prototype._should_scroll = function(lines) {\n",
    "    return false;\n",
    "}"
   ]
  },
  {
   "cell_type": "code",
   "execution_count": null,
   "metadata": {},
   "outputs": [],
   "source": [
    "# Many of the functions in utils.py use variables defined within FDS.ipynb,\n",
    "#  so those function can only be used from within that notebook by running the following:\n",
    "%run -i ../../../code/utils.py"
   ]
  },
  {
   "cell_type": "code",
   "execution_count": null,
   "metadata": {},
   "outputs": [],
   "source": [
    "hrrpuv_file1 = f\"../../../data/Initialization/region1_hrrpuv.csv\"\n",
    "hrrpuv_file2 = f\"../../../data/Initialization/region2_hrrpuv.csv\""
   ]
  },
  {
   "cell_type": "code",
   "execution_count": null,
   "metadata": {},
   "outputs": [],
   "source": [
    "hrrpuv1 = pd.read_csv(hrrpuv_file1)\n",
    "hrrpuv2 = pd.read_csv(hrrpuv_file2)"
   ]
  },
  {
   "cell_type": "code",
   "execution_count": null,
   "metadata": {},
   "outputs": [],
   "source": [
    "interX = [500,600]\n",
    "interY = [250,375]"
   ]
  },
  {
   "cell_type": "code",
   "execution_count": null,
   "metadata": {},
   "outputs": [],
   "source": [
    "hrrpuv1 = hrrpuv1.sort_values(by=['x', 'y', 'z'])"
   ]
  },
  {
   "cell_type": "code",
   "execution_count": null,
   "metadata": {},
   "outputs": [],
   "source": [
    "hrrpuv2 = hrrpuv2.sort_values(by=['x', 'y', 'z'])"
   ]
  },
  {
   "cell_type": "code",
   "execution_count": null,
   "metadata": {},
   "outputs": [],
   "source": [
    "hrrpuv1 = hrrpuv1[(hrrpuv1['x'] >= interX[0]) & (hrrpuv1['x'] <= interX[1]) & (hrrpuv1['y'] >= interY[0]) & (hrrpuv1['y'] <= interY[1])]"
   ]
  },
  {
   "cell_type": "code",
   "execution_count": null,
   "metadata": {},
   "outputs": [],
   "source": [
    "hrrpuv2 = hrrpuv2[(hrrpuv2['x'] >= interX[0]) & (hrrpuv2['x'] <= interX[1]) & (hrrpuv2['y'] >= interY[0]) & (hrrpuv2['y'] <= interY[1])]"
   ]
  },
  {
   "cell_type": "code",
   "execution_count": null,
   "metadata": {},
   "outputs": [],
   "source": [
    "np.linalg.norm(hrrpuv1['hrr'].values - hrrpuv2['hrr'].values) / np.linalg.norm(hrrpuv1['hrr'].values) "
   ]
  },
  {
   "cell_type": "code",
   "execution_count": null,
   "metadata": {},
   "outputs": [],
   "source": [
    "hrrpuv1.shape"
   ]
  },
  {
   "cell_type": "code",
   "execution_count": null,
   "metadata": {},
   "outputs": [],
   "source": []
  }
 ],
 "metadata": {
  "kernelspec": {
   "display_name": "Python 3",
   "language": "python",
   "name": "python3"
  },
  "language_info": {
   "codemirror_mode": {
    "name": "ipython",
    "version": 3
   },
   "file_extension": ".py",
   "mimetype": "text/x-python",
   "name": "python",
   "nbconvert_exporter": "python",
   "pygments_lexer": "ipython3",
   "version": "3.8.5"
  }
 },
 "nbformat": 4,
 "nbformat_minor": 4
}
