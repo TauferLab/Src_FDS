{
 "cells": [
  {
   "cell_type": "markdown",
   "metadata": {},
   "source": [
    "# Croping Region\n",
    "The following script is to crop a region of interest from a given bigger region. \n",
    "\n",
    "Input:  \n",
    "\n",
    "- Original region where the region of interest will be cropped\n",
    "\n",
    "- Dimensions of the bigger region (width x height)\n",
    "        \n",
    "- Lower and upper bound of the horizontal and vertical boundary\n",
    "        \n",
    "Output: \n",
    "\n",
    "- Cropped Image. Region of interested cropped from the bigger region. \n",
    "\n",
    "Sintax:\n",
    "\n",
    "\n",
    "      "
   ]
  },
  {
   "cell_type": "code",
   "execution_count": null,
   "metadata": {},
   "outputs": [],
   "source": [
    "%%javascript\n",
    "IPython.OutputArea.prototype._should_scroll = function(lines) {\n",
    "    return false;\n",
    "}"
   ]
  },
  {
   "cell_type": "code",
   "execution_count": null,
   "metadata": {},
   "outputs": [],
   "source": [
    "# Many of the functions in utils.py use variables defined within FDS.ipynb,\n",
    "#  so those function can only be used from within that notebook by running the following:\n",
    "#  %run -i code/utils.py\n",
    "\n",
    "# Many of the functions in utils.py use variables defined within FDS.ipynb,\n",
    "#  so those function can only be used from within that notebook by running the following:\n",
    "%run -i ../../../code/utils.py\n"
   ]
  },
  {
   "cell_type": "markdown",
   "metadata": {},
   "source": [
    "# Selecting the new region"
   ]
  },
  {
   "cell_type": "code",
   "execution_count": null,
   "metadata": {},
   "outputs": [],
   "source": [
    "xlb      =  500\n",
    "xub      =  700\n",
    "ylb      =  200    \n",
    "yub      =  400\n",
    "\n",
    "crop_rectangle('../../../data/Regions_Images/Gatlinburg_texted.png',1000,1000,xlb,xub,ylb,yub,'../../../data/Regions_Images/Region1.png')"
   ]
  }
 ],
 "metadata": {
  "kernelspec": {
   "display_name": "Python 3",
   "language": "python",
   "name": "python3"
  },
  "language_info": {
   "codemirror_mode": {
    "name": "ipython",
    "version": 3
   },
   "file_extension": ".py",
   "mimetype": "text/x-python",
   "name": "python",
   "nbconvert_exporter": "python",
   "pygments_lexer": "ipython3",
   "version": "3.8.5"
  }
 },
 "nbformat": 4,
 "nbformat_minor": 4
}
