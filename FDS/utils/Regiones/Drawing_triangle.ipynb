{
 "cells": [
  {
   "cell_type": "code",
   "execution_count": null,
   "metadata": {},
   "outputs": [],
   "source": [
    "%%javascript\n",
    "IPython.OutputArea.prototype._should_scroll = function(lines) {\n",
    "    return false;\n",
    "}"
   ]
  },
  {
   "cell_type": "code",
   "execution_count": null,
   "metadata": {},
   "outputs": [],
   "source": [
    "# Many of the functions in utils.py use variables defined within FDS.ipynb,\n",
    "#  so those function can only be used from within that notebook by running the following:\n",
    "#  %run -i code/utils.py\n",
    "from PIL import Image, ImageFont, ImageDraw\n"
   ]
  },
  {
   "cell_type": "markdown",
   "metadata": {},
   "source": [
    "# Selecting the image"
   ]
  },
  {
   "cell_type": "code",
   "execution_count": null,
   "metadata": {},
   "outputs": [],
   "source": [
    "my_image = Image.open(\"Gatlinburg_texted.png\")\n"
   ]
  },
  {
   "cell_type": "markdown",
   "metadata": {},
   "source": [
    "# Adding the font"
   ]
  },
  {
   "cell_type": "code",
   "execution_count": null,
   "metadata": {},
   "outputs": [],
   "source": [
    "grid_font = ImageFont.truetype('vollkorn-font/VollkornBold-ALwGg.ttf', 50)"
   ]
  },
  {
   "cell_type": "code",
   "execution_count": null,
   "metadata": {},
   "outputs": [],
   "source": [
    "image_editable = ImageDraw.Draw(my_image)"
   ]
  },
  {
   "cell_type": "code",
   "execution_count": null,
   "metadata": {},
   "outputs": [],
   "source": [
    "# Writing the vertex\n",
    "\n",
    "grid_text = \"A\"\n",
    "image_editable.text((1200,2000 - 520), grid_text, (0, 0, 255), font=grid_font)\n",
    "\n",
    "grid_text = \"B\"\n",
    "image_editable.text((1000,2000 - 760), grid_text, (0, 0, 255), font=grid_font)\n",
    "\n",
    "grid_text = \"C\"\n",
    "image_editable.text((1100,2000 - 800), grid_text, (0, 0, 255), font=grid_font)\n",
    "\n",
    "# Drawing the triangle\n",
    "\n",
    "image_editable.line((1200,2000 - 520, 1000, 2000 - 760), fill=128, width=5)\n",
    "\n",
    "image_editable.line((1200,2000 - 520, 1100, 2000 - 800), fill=128, width=5)\n",
    "\n",
    "image_editable.line((1000, 2000 - 760, 1100, 2000 - 800), fill=128, width=5)\n",
    "\n",
    "my_image.save(\"Gatlinburg_triangle.png\")"
   ]
  },
  {
   "cell_type": "code",
   "execution_count": null,
   "metadata": {},
   "outputs": [],
   "source": []
  }
 ],
 "metadata": {
  "kernelspec": {
   "display_name": "Python 3",
   "language": "python",
   "name": "python3"
  },
  "language_info": {
   "codemirror_mode": {
    "name": "ipython",
    "version": 3
   },
   "file_extension": ".py",
   "mimetype": "text/x-python",
   "name": "python",
   "nbconvert_exporter": "python",
   "pygments_lexer": "ipython3",
   "version": "3.8.5"
  }
 },
 "nbformat": 4,
 "nbformat_minor": 4
}
