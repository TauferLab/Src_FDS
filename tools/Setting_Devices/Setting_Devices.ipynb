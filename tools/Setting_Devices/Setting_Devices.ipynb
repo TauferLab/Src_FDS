{
 "cells": [
  {
   "cell_type": "code",
   "execution_count": null,
   "metadata": {},
   "outputs": [],
   "source": [
    "%%javascript\n",
    "IPython.OutputArea.prototype._should_scroll = function(lines) {\n",
    "    return false;\n",
    "}"
   ]
  },
  {
   "cell_type": "code",
   "execution_count": null,
   "metadata": {},
   "outputs": [],
   "source": [
    "# Many of the functions in utils.py use variables defined within FDS.ipynb,\n",
    "#  so those function can only be used from within that notebook by running the following:\n",
    "#  %run -i code/utils.py\n",
    "\n",
    "import pandas as pd\n",
    "import numpy as np\n",
    "import math\n",
    "import matplotlib\n",
    "import matplotlib.pyplot as plt\n",
    "import time\n",
    "import os.path\n",
    "\n",
    "from PIL import Image, ImageFont, ImageDraw\n",
    "from mpl_toolkits import mplot3d\n",
    "from matplotlib import cm\n",
    "from mpl_toolkits.mplot3d.art3d import Poly3DCollection\n",
    "from os import path"
   ]
  },
  {
   "cell_type": "code",
   "execution_count": null,
   "metadata": {},
   "outputs": [],
   "source": [
    "def setting_devices(elevation_file,resolution,quantity,output_file):\n",
    "    # Reading the elevation file\n",
    "    elevation = pd.read_csv(elevation_file)\n",
    "    \n",
    "    # Extracting a uniformlly sample of the elevation of a given resolution\n",
    "    elevation = elevation[(elevation.x%resolution==0) & (elevation.y%resolution==0)]  # Filters data \n",
    "    \n",
    "    device     = open(output_file, 'w')\n",
    "    for i in range(0,elevation.shape[0]):\n",
    "        device.write(f\"&DEVC ID='DEV_%03d{quantity[0]}', XYZ={elevation.iloc[i]['x']},{elevation.iloc[i]['y']},{math.ceil(elevation.iloc[i]['z'])},IOR=3, QUANTITY='{quantity}' / \\n\" %(i))\n",
    "    device.close()\n",
    "    return elevation"
   ]
  },
  {
   "cell_type": "code",
   "execution_count": null,
   "metadata": {},
   "outputs": [],
   "source": []
  },
  {
   "cell_type": "code",
   "execution_count": null,
   "metadata": {},
   "outputs": [],
   "source": [
    "elevation_file = 'Elevation.csv'\n",
    "resolution     = 20\n",
    "quantity       = 'VELOCITY'\n",
    "output_file    = quantity + \".dev\"\n",
    "elevation = setting_devices(elevation_file,resolution,quantity,output_file)"
   ]
  },
  {
   "cell_type": "code",
   "execution_count": null,
   "metadata": {},
   "outputs": [],
   "source": [
    "elevation.shape[0]"
   ]
  },
  {
   "cell_type": "code",
   "execution_count": null,
   "metadata": {},
   "outputs": [],
   "source": []
  }
 ],
 "metadata": {
  "kernelspec": {
   "display_name": "Python 3",
   "language": "python",
   "name": "python3"
  },
  "language_info": {
   "codemirror_mode": {
    "name": "ipython",
    "version": 3
   },
   "file_extension": ".py",
   "mimetype": "text/x-python",
   "name": "python",
   "nbconvert_exporter": "python",
   "pygments_lexer": "ipython3",
   "version": "3.8.5"
  }
 },
 "nbformat": 4,
 "nbformat_minor": 4
}
