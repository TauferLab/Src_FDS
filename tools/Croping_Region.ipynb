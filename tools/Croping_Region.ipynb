{
 "cells": [
  {
   "cell_type": "code",
   "execution_count": null,
   "metadata": {},
   "outputs": [],
   "source": [
    "%%javascript\n",
    "IPython.OutputArea.prototype._should_scroll = function(lines) {\n",
    "    return false;\n",
    "}"
   ]
  },
  {
   "cell_type": "code",
   "execution_count": null,
   "metadata": {},
   "outputs": [],
   "source": [
    "# Many of the functions in utils.py use variables defined within FDS.ipynb,\n",
    "#  so those function can only be used from within that notebook by running the following:\n",
    "#  %run -i code/utils.py\n",
    "\n",
    "import pandas as pd\n",
    "import numpy as np\n",
    "import math\n",
    "import numpy as np\n",
    "import matplotlib\n",
    "import matplotlib.pyplot as plt\n",
    "import time\n",
    "import os.path\n",
    "\n",
    "from PIL import Image\n",
    "from mpl_toolkits import mplot3d\n",
    "from matplotlib import cm\n",
    "from mpl_toolkits.mplot3d.art3d import Poly3DCollection\n",
    "from os import path"
   ]
  },
  {
   "cell_type": "markdown",
   "metadata": {},
   "source": [
    "# Funciones"
   ]
  },
  {
   "cell_type": "code",
   "execution_count": null,
   "metadata": {},
   "outputs": [],
   "source": [
    "def draw_rectangle(image_in,xlb,xub,ylb,yub,image_out,color):\n",
    "    # Drawing a rectangle in a picture\n",
    "    dpi = 80\n",
    "    img = matplotlib.image.imread(image_in)\n",
    "    height, width, nbands = img.shape\n",
    "    \n",
    "    # What size does the figure need to be in inches to fit the image?\n",
    "    figsize = width / float(dpi), height / float(dpi)\n",
    "    \n",
    "    figure = plt.figure(figsize=figsize)\n",
    "    ax = figure.add_axes([0, 0, 1, 1])\n",
    "    # Hide spines, ticks, etc.\n",
    "    ax.axis('off')\n",
    "    rect = matplotlib.patches.Rectangle((xlb,height-yub),xub-xlb,yub-ylb, edgecolor=color, facecolor=\"none\",linewidth=2.5)   \n",
    "    ax.imshow(img)\n",
    "    ax.add_patch(rect)\n",
    "    figure.savefig(image_out,dpi=dpi,transparent=True)\n",
    "    return 0\n",
    "\n",
    "def crop_rectangle(image_in,xlb,xub,ylb,yub,image_out):\n",
    "    # Cropping a rectangle from a picture\n",
    "    im  = Image.open(image_in)\n",
    "    box = (xlb,2000-yub,xub,2000-ylb)\n",
    "    im.crop(box).save(image_out)"
   ]
  },
  {
   "cell_type": "markdown",
   "metadata": {},
   "source": [
    "# Selecting the new region"
   ]
  },
  {
   "cell_type": "code",
   "execution_count": null,
   "metadata": {},
   "outputs": [],
   "source": [
    "xlb      =  550\n",
    "xub      =  650\n",
    "ylb      =  200    \n",
    "yub      =  300\n",
    "\n",
    "draw_rectangle('Gatlinburg_Original.png',xlb,xub,ylb,yub,'burned_region.png',[255/255,153/255,5/255])"
   ]
  },
  {
   "cell_type": "code",
   "execution_count": null,
   "metadata": {},
   "outputs": [],
   "source": [
    "xlb = 800\n",
    "xub = 1400\n",
    "ylb = 400 \n",
    "yub = 1000\n",
    "crop_rectangle('Gatlinburg_Original.png',xlb,xub,ylb,yub,'Mediano.png')"
   ]
  },
  {
   "cell_type": "code",
   "execution_count": null,
   "metadata": {},
   "outputs": [],
   "source": []
  }
 ],
 "metadata": {
  "kernelspec": {
   "display_name": "Python 3",
   "language": "python",
   "name": "python3"
  },
  "language_info": {
   "codemirror_mode": {
    "name": "ipython",
    "version": 3
   },
   "file_extension": ".py",
   "mimetype": "text/x-python",
   "name": "python",
   "nbconvert_exporter": "python",
   "pygments_lexer": "ipython3",
   "version": "3.8.5"
  }
 },
 "nbformat": 4,
 "nbformat_minor": 4
}
